{
 "cells": [
  {
   "cell_type": "markdown",
   "metadata": {},
   "source": [
    "# Descubra as melhores notas de matemática do ENEM 2016\n",
    "\n",
    "Você deverá criar um modelo para prever a nota da prova de matemática de quem participou do ENEM 2016. \n",
    "\n",
    "## Tópicos\n",
    "\n",
    "Neste desafio você aprenderá:\n",
    "\n",
    "- Lógica\n",
    "- Análise de dados\n",
    "- Estatística\n",
    "- Regression\n",
    "\n",
    "## Detalhes\n",
    "\n",
    "O contexto do desafio gira em torno dos resultados do ENEM 2016 (disponíveis no arquivo train.csv). Este arquivo, e apenas ele, deve ser utilizado para todos os desafios. Qualquer dúvida a respeito das colunas, consulte o [Dicionário dos Microdados do Enem 2016](https://s3-us-west-1.amazonaws.com/acceleration-assets-highway/data-science/dicionario-de-dados.zip).\n",
    "\n",
    "Muitas universidades brasileiras utilizam o ENEM para selecionar seus futuros alunos e alunas. Isto é feito com uma média ponderada das notas das provas de matemática, ciências da natureza, linguagens e códigos, ciências humanas e redação. Determine os 20 melhores colocados, por ordem, para os pesos abaixo:\n",
    "\n",
    "- matemática: 3\n",
    "- ciências da natureza: 2\n",
    "- linguagens e códigos: 1.5\n",
    "- ciências humanas: 1\n",
    "- redação: 3\n",
    "\n",
    "No arquivo test.csv crie um modelo para prever nota da prova de matemática (coluna **NU_NOTA_MT**) de quem participou do ENEM 2016. \n",
    "\n",
    "Salve sua resposta em um arquivo chamado answer.csv com duas colunas: **NU_INSCRICAO** e **NU_NOTA_MT**.\n",
    "\n",
    "Faça o upload do arquivo answer.csv usando o botão \"Submeter resposta\".\n",
    "\n",
    "## Observações\n",
    "\n",
    "O objetivo do desafio é avaliar a sua capacidade de resolver problemas, então ele pode ser resolvido em qualquer linguagem de programação ou ferramenta que você tenha facilidade. Mas recomendamos o uso de linguagens com maior ferramental de matemática e estatística como Python, R, Scala ou Julia."
   ]
  },
  {
   "cell_type": "markdown",
   "metadata": {},
   "source": [
    "# Imports e carga de dados"
   ]
  },
  {
   "cell_type": "code",
   "execution_count": 1,
   "metadata": {},
   "outputs": [],
   "source": [
    "import pandas as pd\n",
    "import numpy as np\n",
    "import matplotlib.pyplot as plt\n",
    "import seaborn as sns\n",
    "from sklearn.model_selection import train_test_split\n",
    "from sklearn.preprocessing import StandardScaler\n",
    "from sklearn.metrics import mean_absolute_error,mean_squared_error\n",
    "from sklearn.neural_network import MLPRegressor"
   ]
  },
  {
   "cell_type": "markdown",
   "metadata": {},
   "source": [
    "## Antes de começar, vamos verificar se as colunas são iguais para os dados de treino e teste"
   ]
  },
  {
   "cell_type": "code",
   "execution_count": 2,
   "metadata": {},
   "outputs": [
    {
     "name": "stdout",
     "output_type": "stream",
     "text": [
      "Treino: (13730, 167)\n",
      "Teste: (4576, 47)\n"
     ]
    }
   ],
   "source": [
    "dados = pd.read_csv('train.csv')\n",
    "teste = pd.read_csv('test.csv')\n",
    "\n",
    "print('Treino: {}\\nTeste: {}'.format(dados.shape, teste.shape))"
   ]
  },
  {
   "cell_type": "code",
   "execution_count": 3,
   "metadata": {},
   "outputs": [
    {
     "data": {
      "text/plain": [
       "Index(['Unnamed: 0', 'NU_INSCRICAO', 'NU_ANO', 'CO_MUNICIPIO_RESIDENCIA',\n",
       "       'NO_MUNICIPIO_RESIDENCIA', 'CO_UF_RESIDENCIA', 'SG_UF_RESIDENCIA',\n",
       "       'NU_IDADE', 'TP_SEXO', 'TP_ESTADO_CIVIL',\n",
       "       ...\n",
       "       'Q041', 'Q042', 'Q043', 'Q044', 'Q045', 'Q046', 'Q047', 'Q048', 'Q049',\n",
       "       'Q050'],\n",
       "      dtype='object', length=167)"
      ]
     },
     "execution_count": 3,
     "metadata": {},
     "output_type": "execute_result"
    }
   ],
   "source": [
    "dados.columns"
   ]
  },
  {
   "cell_type": "code",
   "execution_count": 4,
   "metadata": {},
   "outputs": [
    {
     "data": {
      "text/plain": [
       "Index(['NU_INSCRICAO', 'CO_UF_RESIDENCIA', 'SG_UF_RESIDENCIA', 'NU_IDADE',\n",
       "       'TP_SEXO', 'TP_COR_RACA', 'TP_NACIONALIDADE', 'TP_ST_CONCLUSAO',\n",
       "       'TP_ANO_CONCLUIU', 'TP_ESCOLA', 'TP_ENSINO', 'IN_TREINEIRO',\n",
       "       'TP_DEPENDENCIA_ADM_ESC', 'IN_BAIXA_VISAO', 'IN_CEGUEIRA', 'IN_SURDEZ',\n",
       "       'IN_DISLEXIA', 'IN_DISCALCULIA', 'IN_SABATISTA', 'IN_GESTANTE',\n",
       "       'IN_IDOSO', 'TP_PRESENCA_CN', 'TP_PRESENCA_CH', 'TP_PRESENCA_LC',\n",
       "       'CO_PROVA_CN', 'CO_PROVA_CH', 'CO_PROVA_LC', 'CO_PROVA_MT',\n",
       "       'NU_NOTA_CN', 'NU_NOTA_CH', 'NU_NOTA_LC', 'TP_LINGUA',\n",
       "       'TP_STATUS_REDACAO', 'NU_NOTA_COMP1', 'NU_NOTA_COMP2', 'NU_NOTA_COMP3',\n",
       "       'NU_NOTA_COMP4', 'NU_NOTA_COMP5', 'NU_NOTA_REDACAO', 'Q001', 'Q002',\n",
       "       'Q006', 'Q024', 'Q025', 'Q026', 'Q027', 'Q047'],\n",
       "      dtype='object')"
      ]
     },
     "execution_count": 4,
     "metadata": {},
     "output_type": "execute_result"
    }
   ],
   "source": [
    "teste.columns"
   ]
  },
  {
   "cell_type": "markdown",
   "metadata": {},
   "source": [
    "---\n",
    "\n",
    "A quantidade de colunas nos dados de teste é muito inferior as de treino, por isso serão descartados as colunas que não estão nos dados de teste"
   ]
  },
  {
   "cell_type": "code",
   "execution_count": 5,
   "metadata": {},
   "outputs": [],
   "source": [
    "dados = dados[teste.columns]\n",
    "\n",
    "# colunas que não estão nos dados de teste mas que serão usadas na análise\n",
    "dados['TP_PRESENCA_MT'] = pd.read_csv('train.csv', usecols=['TP_PRESENCA_MT'])\n",
    "\n",
    "dados['TARGET'] = pd.read_csv('train.csv', usecols=['NU_NOTA_MT'])"
   ]
  },
  {
   "cell_type": "markdown",
   "metadata": {},
   "source": [
    "---\n",
    "\n",
    "Com isso já podemos conktinuar com as análises, por enquanto serão usados os dados de treino para a criação dos modelos e definições de pré-processamento.  \n",
    "Os dados de teste serão usados posteriormente para a geração das previsões para a competição."
   ]
  },
  {
   "cell_type": "markdown",
   "metadata": {},
   "source": [
    "# Análise Exploratória.\n",
    "Com ela podemos compreender melhor os dados para poder tomar decisões sobre passos seguintes."
   ]
  },
  {
   "cell_type": "code",
   "execution_count": 6,
   "metadata": {},
   "outputs": [
    {
     "data": {
      "text/html": [
       "<div>\n",
       "<style scoped>\n",
       "    .dataframe tbody tr th:only-of-type {\n",
       "        vertical-align: middle;\n",
       "    }\n",
       "\n",
       "    .dataframe tbody tr th {\n",
       "        vertical-align: top;\n",
       "    }\n",
       "\n",
       "    .dataframe thead th {\n",
       "        text-align: right;\n",
       "    }\n",
       "</style>\n",
       "<table border=\"1\" class=\"dataframe\">\n",
       "  <thead>\n",
       "    <tr style=\"text-align: right;\">\n",
       "      <th></th>\n",
       "      <th>NU_INSCRICAO</th>\n",
       "      <th>CO_UF_RESIDENCIA</th>\n",
       "      <th>SG_UF_RESIDENCIA</th>\n",
       "      <th>NU_IDADE</th>\n",
       "      <th>TP_SEXO</th>\n",
       "      <th>TP_COR_RACA</th>\n",
       "      <th>TP_NACIONALIDADE</th>\n",
       "      <th>TP_ST_CONCLUSAO</th>\n",
       "      <th>TP_ANO_CONCLUIU</th>\n",
       "      <th>TP_ESCOLA</th>\n",
       "      <th>...</th>\n",
       "      <th>Q001</th>\n",
       "      <th>Q002</th>\n",
       "      <th>Q006</th>\n",
       "      <th>Q024</th>\n",
       "      <th>Q025</th>\n",
       "      <th>Q026</th>\n",
       "      <th>Q027</th>\n",
       "      <th>Q047</th>\n",
       "      <th>TP_PRESENCA_MT</th>\n",
       "      <th>TARGET</th>\n",
       "    </tr>\n",
       "  </thead>\n",
       "  <tbody>\n",
       "    <tr>\n",
       "      <th>0</th>\n",
       "      <td>ed50e8aaa58e7a806c337585efee9ca41f1eb1ad</td>\n",
       "      <td>43</td>\n",
       "      <td>RS</td>\n",
       "      <td>24</td>\n",
       "      <td>M</td>\n",
       "      <td>1</td>\n",
       "      <td>1</td>\n",
       "      <td>1</td>\n",
       "      <td>4</td>\n",
       "      <td>1</td>\n",
       "      <td>...</td>\n",
       "      <td>D</td>\n",
       "      <td>D</td>\n",
       "      <td>C</td>\n",
       "      <td>A</td>\n",
       "      <td>A</td>\n",
       "      <td>C</td>\n",
       "      <td>H</td>\n",
       "      <td>A</td>\n",
       "      <td>1</td>\n",
       "      <td>399.4</td>\n",
       "    </tr>\n",
       "    <tr>\n",
       "      <th>1</th>\n",
       "      <td>2c3acac4b33ec2b195d77e7c04a2d75727fad723</td>\n",
       "      <td>23</td>\n",
       "      <td>CE</td>\n",
       "      <td>17</td>\n",
       "      <td>F</td>\n",
       "      <td>3</td>\n",
       "      <td>1</td>\n",
       "      <td>2</td>\n",
       "      <td>0</td>\n",
       "      <td>2</td>\n",
       "      <td>...</td>\n",
       "      <td>A</td>\n",
       "      <td>A</td>\n",
       "      <td>B</td>\n",
       "      <td>A</td>\n",
       "      <td>A</td>\n",
       "      <td>A</td>\n",
       "      <td>NaN</td>\n",
       "      <td>A</td>\n",
       "      <td>1</td>\n",
       "      <td>459.8</td>\n",
       "    </tr>\n",
       "    <tr>\n",
       "      <th>2</th>\n",
       "      <td>f4545f8ccb9ff5c8aad7d32951b3f251a26e6568</td>\n",
       "      <td>23</td>\n",
       "      <td>CE</td>\n",
       "      <td>21</td>\n",
       "      <td>F</td>\n",
       "      <td>3</td>\n",
       "      <td>1</td>\n",
       "      <td>3</td>\n",
       "      <td>0</td>\n",
       "      <td>1</td>\n",
       "      <td>...</td>\n",
       "      <td>D</td>\n",
       "      <td>D</td>\n",
       "      <td>C</td>\n",
       "      <td>A</td>\n",
       "      <td>A</td>\n",
       "      <td>A</td>\n",
       "      <td>NaN</td>\n",
       "      <td>A</td>\n",
       "      <td>0</td>\n",
       "      <td>NaN</td>\n",
       "    </tr>\n",
       "    <tr>\n",
       "      <th>3</th>\n",
       "      <td>3d6ec248fef899c414e77f82d5c6d2bffbeaf7fe</td>\n",
       "      <td>33</td>\n",
       "      <td>RJ</td>\n",
       "      <td>25</td>\n",
       "      <td>F</td>\n",
       "      <td>0</td>\n",
       "      <td>1</td>\n",
       "      <td>1</td>\n",
       "      <td>9</td>\n",
       "      <td>1</td>\n",
       "      <td>...</td>\n",
       "      <td>H</td>\n",
       "      <td>E</td>\n",
       "      <td>E</td>\n",
       "      <td>C</td>\n",
       "      <td>B</td>\n",
       "      <td>C</td>\n",
       "      <td>F</td>\n",
       "      <td>D</td>\n",
       "      <td>0</td>\n",
       "      <td>NaN</td>\n",
       "    </tr>\n",
       "    <tr>\n",
       "      <th>4</th>\n",
       "      <td>bf896ac8d3ecadd6dba1dfbf50110afcbf5d3268</td>\n",
       "      <td>13</td>\n",
       "      <td>AM</td>\n",
       "      <td>28</td>\n",
       "      <td>M</td>\n",
       "      <td>2</td>\n",
       "      <td>1</td>\n",
       "      <td>1</td>\n",
       "      <td>4</td>\n",
       "      <td>1</td>\n",
       "      <td>...</td>\n",
       "      <td>E</td>\n",
       "      <td>D</td>\n",
       "      <td>C</td>\n",
       "      <td>A</td>\n",
       "      <td>A</td>\n",
       "      <td>B</td>\n",
       "      <td>F</td>\n",
       "      <td>A</td>\n",
       "      <td>0</td>\n",
       "      <td>NaN</td>\n",
       "    </tr>\n",
       "  </tbody>\n",
       "</table>\n",
       "<p>5 rows × 49 columns</p>\n",
       "</div>"
      ],
      "text/plain": [
       "                               NU_INSCRICAO  CO_UF_RESIDENCIA  \\\n",
       "0  ed50e8aaa58e7a806c337585efee9ca41f1eb1ad                43   \n",
       "1  2c3acac4b33ec2b195d77e7c04a2d75727fad723                23   \n",
       "2  f4545f8ccb9ff5c8aad7d32951b3f251a26e6568                23   \n",
       "3  3d6ec248fef899c414e77f82d5c6d2bffbeaf7fe                33   \n",
       "4  bf896ac8d3ecadd6dba1dfbf50110afcbf5d3268                13   \n",
       "\n",
       "  SG_UF_RESIDENCIA  NU_IDADE TP_SEXO  TP_COR_RACA  TP_NACIONALIDADE  \\\n",
       "0               RS        24       M            1                 1   \n",
       "1               CE        17       F            3                 1   \n",
       "2               CE        21       F            3                 1   \n",
       "3               RJ        25       F            0                 1   \n",
       "4               AM        28       M            2                 1   \n",
       "\n",
       "   TP_ST_CONCLUSAO  TP_ANO_CONCLUIU  TP_ESCOLA  ...  Q001  Q002  Q006  Q024  \\\n",
       "0                1                4          1  ...     D     D     C     A   \n",
       "1                2                0          2  ...     A     A     B     A   \n",
       "2                3                0          1  ...     D     D     C     A   \n",
       "3                1                9          1  ...     H     E     E     C   \n",
       "4                1                4          1  ...     E     D     C     A   \n",
       "\n",
       "   Q025  Q026  Q027  Q047  TP_PRESENCA_MT  TARGET  \n",
       "0     A     C     H     A               1   399.4  \n",
       "1     A     A   NaN     A               1   459.8  \n",
       "2     A     A   NaN     A               0     NaN  \n",
       "3     B     C     F     D               0     NaN  \n",
       "4     A     B     F     A               0     NaN  \n",
       "\n",
       "[5 rows x 49 columns]"
      ]
     },
     "execution_count": 6,
     "metadata": {},
     "output_type": "execute_result"
    }
   ],
   "source": [
    "dados.head()"
   ]
  },
  {
   "cell_type": "code",
   "execution_count": 7,
   "metadata": {},
   "outputs": [
    {
     "data": {
      "text/plain": [
       "(13730, 49)"
      ]
     },
     "execution_count": 7,
     "metadata": {},
     "output_type": "execute_result"
    }
   ],
   "source": [
    "dados.shape"
   ]
  },
  {
   "cell_type": "code",
   "execution_count": 8,
   "metadata": {},
   "outputs": [
    {
     "name": "stdout",
     "output_type": "stream",
     "text": [
      "<class 'pandas.core.frame.DataFrame'>\n",
      "RangeIndex: 13730 entries, 0 to 13729\n",
      "Data columns (total 49 columns):\n",
      " #   Column                  Non-Null Count  Dtype  \n",
      "---  ------                  --------------  -----  \n",
      " 0   NU_INSCRICAO            13730 non-null  object \n",
      " 1   CO_UF_RESIDENCIA        13730 non-null  int64  \n",
      " 2   SG_UF_RESIDENCIA        13730 non-null  object \n",
      " 3   NU_IDADE                13730 non-null  int64  \n",
      " 4   TP_SEXO                 13730 non-null  object \n",
      " 5   TP_COR_RACA             13730 non-null  int64  \n",
      " 6   TP_NACIONALIDADE        13730 non-null  int64  \n",
      " 7   TP_ST_CONCLUSAO         13730 non-null  int64  \n",
      " 8   TP_ANO_CONCLUIU         13730 non-null  int64  \n",
      " 9   TP_ESCOLA               13730 non-null  int64  \n",
      " 10  TP_ENSINO               4282 non-null   float64\n",
      " 11  IN_TREINEIRO            13730 non-null  int64  \n",
      " 12  TP_DEPENDENCIA_ADM_ESC  4282 non-null   float64\n",
      " 13  IN_BAIXA_VISAO          13730 non-null  int64  \n",
      " 14  IN_CEGUEIRA             13730 non-null  int64  \n",
      " 15  IN_SURDEZ               13730 non-null  int64  \n",
      " 16  IN_DISLEXIA             13730 non-null  int64  \n",
      " 17  IN_DISCALCULIA          13730 non-null  int64  \n",
      " 18  IN_SABATISTA            13730 non-null  int64  \n",
      " 19  IN_GESTANTE             13730 non-null  int64  \n",
      " 20  IN_IDOSO                13730 non-null  int64  \n",
      " 21  TP_PRESENCA_CN          13730 non-null  int64  \n",
      " 22  TP_PRESENCA_CH          13730 non-null  int64  \n",
      " 23  TP_PRESENCA_LC          13730 non-null  int64  \n",
      " 24  CO_PROVA_CN             13730 non-null  object \n",
      " 25  CO_PROVA_CH             13730 non-null  object \n",
      " 26  CO_PROVA_LC             13730 non-null  object \n",
      " 27  CO_PROVA_MT             13730 non-null  object \n",
      " 28  NU_NOTA_CN              10341 non-null  float64\n",
      " 29  NU_NOTA_CH              10341 non-null  float64\n",
      " 30  NU_NOTA_LC              10133 non-null  float64\n",
      " 31  TP_LINGUA               13730 non-null  int64  \n",
      " 32  TP_STATUS_REDACAO       10133 non-null  float64\n",
      " 33  NU_NOTA_COMP1           10133 non-null  float64\n",
      " 34  NU_NOTA_COMP2           10133 non-null  float64\n",
      " 35  NU_NOTA_COMP3           10133 non-null  float64\n",
      " 36  NU_NOTA_COMP4           10133 non-null  float64\n",
      " 37  NU_NOTA_COMP5           10133 non-null  float64\n",
      " 38  NU_NOTA_REDACAO         10133 non-null  float64\n",
      " 39  Q001                    13730 non-null  object \n",
      " 40  Q002                    13730 non-null  object \n",
      " 41  Q006                    13730 non-null  object \n",
      " 42  Q024                    13730 non-null  object \n",
      " 43  Q025                    13730 non-null  object \n",
      " 44  Q026                    13730 non-null  object \n",
      " 45  Q027                    6357 non-null   object \n",
      " 46  Q047                    13730 non-null  object \n",
      " 47  TP_PRESENCA_MT          13730 non-null  int64  \n",
      " 48  TARGET                  10133 non-null  float64\n",
      "dtypes: float64(13), int64(21), object(15)\n",
      "memory usage: 5.1+ MB\n"
     ]
    }
   ],
   "source": [
    "dados.info()"
   ]
  },
  {
   "cell_type": "code",
   "execution_count": 9,
   "metadata": {},
   "outputs": [
    {
     "name": "stdout",
     "output_type": "stream",
     "text": [
      "INFORMAÇÕES SOBRE OS DADOS:\n",
      "\n",
      "0\tNU_INSCRICAO\tTipo: object\tInválidos: 0\tÚnicos: 13730\n",
      "----------------------------------------------------------------------------------------------------\n",
      "1\tCO_UF_RESIDENCIA\tTipo: int64\tInválidos: 0\tÚnicos: 27\n",
      "----------------------------------------------------------------------------------------------------\n",
      "2\tSG_UF_RESIDENCIA\tTipo: object\tInválidos: 0\tÚnicos: 27\n",
      "----------------------------------------------------------------------------------------------------\n",
      "3\tNU_IDADE\tTipo: int64\tInválidos: 0\tÚnicos: 55\n",
      "----------------------------------------------------------------------------------------------------\n",
      "4\tTP_SEXO\tTipo: object\tInválidos: 0\tÚnicos: 2\n",
      "----------------------------------------------------------------------------------------------------\n",
      "5\tTP_COR_RACA\tTipo: int64\tInválidos: 0\tÚnicos: 6\n",
      "----------------------------------------------------------------------------------------------------\n",
      "6\tTP_NACIONALIDADE\tTipo: int64\tInválidos: 0\tÚnicos: 5\n",
      "----------------------------------------------------------------------------------------------------\n",
      "7\tTP_ST_CONCLUSAO\tTipo: int64\tInválidos: 0\tÚnicos: 4\n",
      "----------------------------------------------------------------------------------------------------\n",
      "8\tTP_ANO_CONCLUIU\tTipo: int64\tInválidos: 0\tÚnicos: 11\n",
      "----------------------------------------------------------------------------------------------------\n",
      "9\tTP_ESCOLA\tTipo: int64\tInválidos: 0\tÚnicos: 4\n",
      "----------------------------------------------------------------------------------------------------\n",
      "10\tTP_ENSINO\tTipo: float64\tInválidos: 9448\tÚnicos: 3\n",
      "----------------------------------------------------------------------------------------------------\n",
      "11\tIN_TREINEIRO\tTipo: int64\tInválidos: 0\tÚnicos: 2\n",
      "----------------------------------------------------------------------------------------------------\n",
      "12\tTP_DEPENDENCIA_ADM_ESC\tTipo: float64\tInválidos: 9448\tÚnicos: 4\n",
      "----------------------------------------------------------------------------------------------------\n",
      "13\tIN_BAIXA_VISAO\tTipo: int64\tInválidos: 0\tÚnicos: 2\n",
      "----------------------------------------------------------------------------------------------------\n",
      "14\tIN_CEGUEIRA\tTipo: int64\tInválidos: 0\tÚnicos: 1\n",
      "----------------------------------------------------------------------------------------------------\n",
      "15\tIN_SURDEZ\tTipo: int64\tInválidos: 0\tÚnicos: 2\n",
      "----------------------------------------------------------------------------------------------------\n",
      "16\tIN_DISLEXIA\tTipo: int64\tInválidos: 0\tÚnicos: 2\n",
      "----------------------------------------------------------------------------------------------------\n",
      "17\tIN_DISCALCULIA\tTipo: int64\tInválidos: 0\tÚnicos: 2\n",
      "----------------------------------------------------------------------------------------------------\n",
      "18\tIN_SABATISTA\tTipo: int64\tInválidos: 0\tÚnicos: 2\n",
      "----------------------------------------------------------------------------------------------------\n",
      "19\tIN_GESTANTE\tTipo: int64\tInválidos: 0\tÚnicos: 2\n",
      "----------------------------------------------------------------------------------------------------\n",
      "20\tIN_IDOSO\tTipo: int64\tInválidos: 0\tÚnicos: 2\n",
      "----------------------------------------------------------------------------------------------------\n",
      "21\tTP_PRESENCA_CN\tTipo: int64\tInválidos: 0\tÚnicos: 3\n",
      "----------------------------------------------------------------------------------------------------\n",
      "22\tTP_PRESENCA_CH\tTipo: int64\tInválidos: 0\tÚnicos: 3\n",
      "----------------------------------------------------------------------------------------------------\n",
      "23\tTP_PRESENCA_LC\tTipo: int64\tInválidos: 0\tÚnicos: 3\n",
      "----------------------------------------------------------------------------------------------------\n",
      "24\tCO_PROVA_CN\tTipo: object\tInválidos: 0\tÚnicos: 10\n",
      "----------------------------------------------------------------------------------------------------\n",
      "25\tCO_PROVA_CH\tTipo: object\tInválidos: 0\tÚnicos: 10\n",
      "----------------------------------------------------------------------------------------------------\n",
      "26\tCO_PROVA_LC\tTipo: object\tInválidos: 0\tÚnicos: 9\n",
      "----------------------------------------------------------------------------------------------------\n",
      "27\tCO_PROVA_MT\tTipo: object\tInválidos: 0\tÚnicos: 9\n",
      "----------------------------------------------------------------------------------------------------\n",
      "28\tNU_NOTA_CN\tTipo: float64\tInválidos: 3389\tÚnicos: 2692\n",
      "----------------------------------------------------------------------------------------------------\n",
      "29\tNU_NOTA_CH\tTipo: float64\tInválidos: 3389\tÚnicos: 2978\n",
      "----------------------------------------------------------------------------------------------------\n",
      "30\tNU_NOTA_LC\tTipo: float64\tInválidos: 3597\tÚnicos: 2774\n",
      "----------------------------------------------------------------------------------------------------\n",
      "31\tTP_LINGUA\tTipo: int64\tInválidos: 0\tÚnicos: 2\n",
      "----------------------------------------------------------------------------------------------------\n",
      "32\tTP_STATUS_REDACAO\tTipo: float64\tInválidos: 3597\tÚnicos: 9\n",
      "----------------------------------------------------------------------------------------------------\n",
      "33\tNU_NOTA_COMP1\tTipo: float64\tInválidos: 3597\tÚnicos: 15\n",
      "----------------------------------------------------------------------------------------------------\n",
      "34\tNU_NOTA_COMP2\tTipo: float64\tInválidos: 3597\tÚnicos: 13\n",
      "----------------------------------------------------------------------------------------------------\n",
      "35\tNU_NOTA_COMP3\tTipo: float64\tInválidos: 3597\tÚnicos: 12\n",
      "----------------------------------------------------------------------------------------------------\n",
      "36\tNU_NOTA_COMP4\tTipo: float64\tInválidos: 3597\tÚnicos: 14\n",
      "----------------------------------------------------------------------------------------------------\n",
      "37\tNU_NOTA_COMP5\tTipo: float64\tInválidos: 3597\tÚnicos: 14\n",
      "----------------------------------------------------------------------------------------------------\n",
      "38\tNU_NOTA_REDACAO\tTipo: float64\tInválidos: 3597\tÚnicos: 53\n",
      "----------------------------------------------------------------------------------------------------\n",
      "39\tQ001\tTipo: object\tInválidos: 0\tÚnicos: 8\n",
      "----------------------------------------------------------------------------------------------------\n",
      "40\tQ002\tTipo: object\tInválidos: 0\tÚnicos: 8\n",
      "----------------------------------------------------------------------------------------------------\n",
      "41\tQ006\tTipo: object\tInválidos: 0\tÚnicos: 17\n",
      "----------------------------------------------------------------------------------------------------\n",
      "42\tQ024\tTipo: object\tInválidos: 0\tÚnicos: 5\n",
      "----------------------------------------------------------------------------------------------------\n",
      "43\tQ025\tTipo: object\tInválidos: 0\tÚnicos: 2\n",
      "----------------------------------------------------------------------------------------------------\n",
      "44\tQ026\tTipo: object\tInválidos: 0\tÚnicos: 3\n",
      "----------------------------------------------------------------------------------------------------\n",
      "45\tQ027\tTipo: object\tInválidos: 7373\tÚnicos: 13\n",
      "----------------------------------------------------------------------------------------------------\n",
      "46\tQ047\tTipo: object\tInválidos: 0\tÚnicos: 5\n",
      "----------------------------------------------------------------------------------------------------\n",
      "47\tTP_PRESENCA_MT\tTipo: int64\tInválidos: 0\tÚnicos: 3\n",
      "----------------------------------------------------------------------------------------------------\n",
      "48\tTARGET\tTipo: float64\tInválidos: 3597\tÚnicos: 3406\n",
      "----------------------------------------------------------------------------------------------------\n"
     ]
    }
   ],
   "source": [
    "# Visão um pouco mais detalhada\n",
    "print('INFORMAÇÕES SOBRE OS DADOS:\\n')\n",
    "for ind, i in enumerate(dados.columns):\n",
    "    print('{}\\t{}\\tTipo: {}\\tInválidos: {}\\tÚnicos: {}'.format(ind,i,dados[i].dtype,dados[i].isnull().sum(),dados[i].nunique()))\n",
    "    print('-' * 100)"
   ]
  },
  {
   "cell_type": "markdown",
   "metadata": {},
   "source": [
    "---\n",
    "\n",
    "Análise preliminar e levantamento de hipóteses sobre os dados:\n",
    "\n",
    "- Colunas CO_UF_RESIDENCIA e SG_UF_RESIDENCIA posuem a mesma informação, mas com tipos diferentes de entradas.\n",
    "- Colunas TP_ENSINO e TP_DEPENDENCIA_ADM_ESC possuem a mesma quantidade de valores inválidos, o que pode representar algum tipo de falha na captação das amostras dos dados por se tratar de dados referentes a escola e a quantidade de dados faltantes ser significativa (68,88%).\n",
    "- Colunas TP_PRESENCA_CN, TP_PRESENCA_CH, TP_PRESENCA_LC representam a presença em cada tipo de prova, e elas combinadas com as colunas de notas talvez possam explicar alguns dos valores faltantes dos mesmos.\n",
    "- Colunas CO_PROVA_CN, CO_PROVA_CH, CO_PROVA_MT, CO_PROVA_LC, representam os diferentes tipos provas aplicadas, e para este tipo de análise estas informações talvez não sejam muito relevantes.\n",
    "- Colunas NU_NOTA_COMP1 a NU_NOTA_COMP5 e TP_STATUS_REDACAO\tdefinem o porque do candidato receber a nota final da redação.\n",
    "- Colunas Q001, Q002, Q006, Q024, Q025, Q026, Q027 e Q047 pertencem ao questionário socio-econômico respondido pelo candidato, e possui informações sobre a escolaridade dos pais, se possui acesso a um computador e internet em casa e dados sobre trabalho e escola dos candidatos."
   ]
  },
  {
   "cell_type": "markdown",
   "metadata": {},
   "source": [
    "---\n",
    "\n",
    "Antes de iniciar o pre-processamento, vamos separar em dados categoricos e numericos para facilitar as transformações e confirmar algumas hipóteses"
   ]
  },
  {
   "cell_type": "code",
   "execution_count": 10,
   "metadata": {},
   "outputs": [],
   "source": [
    "# Separa em dados categóricos e numéricos para facilitar as análises\n",
    "categoricos = dados[[i for i in dados.columns if(dados[i].dtype == 'object')]]\n",
    "numericos = dados[[i for i in dados.columns if(dados[i].dtype != 'object')]]"
   ]
  },
  {
   "cell_type": "code",
   "execution_count": 11,
   "metadata": {},
   "outputs": [
    {
     "data": {
      "text/plain": [
       "NU_INSCRICAO           0\n",
       "SG_UF_RESIDENCIA       0\n",
       "TP_SEXO                0\n",
       "CO_PROVA_CN            0\n",
       "CO_PROVA_CH            0\n",
       "CO_PROVA_LC            0\n",
       "CO_PROVA_MT            0\n",
       "Q001                   0\n",
       "Q002                   0\n",
       "Q006                   0\n",
       "Q024                   0\n",
       "Q025                   0\n",
       "Q026                   0\n",
       "Q027                7373\n",
       "Q047                   0\n",
       "dtype: int64"
      ]
     },
     "execution_count": 11,
     "metadata": {},
     "output_type": "execute_result"
    }
   ],
   "source": [
    "# valores nulos dos dados categóricos\n",
    "categoricos.isnull().sum()"
   ]
  },
  {
   "cell_type": "code",
   "execution_count": 12,
   "metadata": {},
   "outputs": [
    {
     "data": {
      "text/plain": [
       "NU_INSCRICAO        13730\n",
       "SG_UF_RESIDENCIA       27\n",
       "TP_SEXO                 2\n",
       "CO_PROVA_CN            10\n",
       "CO_PROVA_CH            10\n",
       "CO_PROVA_LC             9\n",
       "CO_PROVA_MT             9\n",
       "Q001                    8\n",
       "Q002                    8\n",
       "Q006                   17\n",
       "Q024                    5\n",
       "Q025                    2\n",
       "Q026                    3\n",
       "Q027                   13\n",
       "Q047                    5\n",
       "dtype: int64"
      ]
     },
     "execution_count": 12,
     "metadata": {},
     "output_type": "execute_result"
    }
   ],
   "source": [
    "# Quantidade de categorias\n",
    "categoricos.nunique()"
   ]
  },
  {
   "cell_type": "code",
   "execution_count": 13,
   "metadata": {},
   "outputs": [
    {
     "data": {
      "text/plain": [
       "CO_UF_RESIDENCIA             0\n",
       "NU_IDADE                     0\n",
       "TP_COR_RACA                  0\n",
       "TP_NACIONALIDADE             0\n",
       "TP_ST_CONCLUSAO              0\n",
       "TP_ANO_CONCLUIU              0\n",
       "TP_ESCOLA                    0\n",
       "TP_ENSINO                 9448\n",
       "IN_TREINEIRO                 0\n",
       "TP_DEPENDENCIA_ADM_ESC    9448\n",
       "IN_BAIXA_VISAO               0\n",
       "IN_CEGUEIRA                  0\n",
       "IN_SURDEZ                    0\n",
       "IN_DISLEXIA                  0\n",
       "IN_DISCALCULIA               0\n",
       "IN_SABATISTA                 0\n",
       "IN_GESTANTE                  0\n",
       "IN_IDOSO                     0\n",
       "TP_PRESENCA_CN               0\n",
       "TP_PRESENCA_CH               0\n",
       "TP_PRESENCA_LC               0\n",
       "NU_NOTA_CN                3389\n",
       "NU_NOTA_CH                3389\n",
       "NU_NOTA_LC                3597\n",
       "TP_LINGUA                    0\n",
       "TP_STATUS_REDACAO         3597\n",
       "NU_NOTA_COMP1             3597\n",
       "NU_NOTA_COMP2             3597\n",
       "NU_NOTA_COMP3             3597\n",
       "NU_NOTA_COMP4             3597\n",
       "NU_NOTA_COMP5             3597\n",
       "NU_NOTA_REDACAO           3597\n",
       "TP_PRESENCA_MT               0\n",
       "TARGET                    3597\n",
       "dtype: int64"
      ]
     },
     "execution_count": 13,
     "metadata": {},
     "output_type": "execute_result"
    }
   ],
   "source": [
    "# valores nulos dos dados numericos\n",
    "numericos.isnull().sum()"
   ]
  },
  {
   "cell_type": "code",
   "execution_count": 14,
   "metadata": {},
   "outputs": [
    {
     "data": {
      "text/plain": [
       "CO_UF_RESIDENCIA            27\n",
       "NU_IDADE                    55\n",
       "TP_COR_RACA                  6\n",
       "TP_NACIONALIDADE             5\n",
       "TP_ST_CONCLUSAO              4\n",
       "TP_ANO_CONCLUIU             11\n",
       "TP_ESCOLA                    4\n",
       "TP_ENSINO                    3\n",
       "IN_TREINEIRO                 2\n",
       "TP_DEPENDENCIA_ADM_ESC       4\n",
       "IN_BAIXA_VISAO               2\n",
       "IN_CEGUEIRA                  1\n",
       "IN_SURDEZ                    2\n",
       "IN_DISLEXIA                  2\n",
       "IN_DISCALCULIA               2\n",
       "IN_SABATISTA                 2\n",
       "IN_GESTANTE                  2\n",
       "IN_IDOSO                     2\n",
       "TP_PRESENCA_CN               3\n",
       "TP_PRESENCA_CH               3\n",
       "TP_PRESENCA_LC               3\n",
       "NU_NOTA_CN                2692\n",
       "NU_NOTA_CH                2978\n",
       "NU_NOTA_LC                2774\n",
       "TP_LINGUA                    2\n",
       "TP_STATUS_REDACAO            9\n",
       "NU_NOTA_COMP1               15\n",
       "NU_NOTA_COMP2               13\n",
       "NU_NOTA_COMP3               12\n",
       "NU_NOTA_COMP4               14\n",
       "NU_NOTA_COMP5               14\n",
       "NU_NOTA_REDACAO             53\n",
       "TP_PRESENCA_MT               3\n",
       "TARGET                    3406\n",
       "dtype: int64"
      ]
     },
     "execution_count": 14,
     "metadata": {},
     "output_type": "execute_result"
    }
   ],
   "source": [
    "# Quantidade de categorias dos dados numéricos\n",
    "numericos.nunique()"
   ]
  },
  {
   "cell_type": "code",
   "execution_count": 15,
   "metadata": {},
   "outputs": [
    {
     "data": {
      "text/plain": [
       "3389"
      ]
     },
     "execution_count": 15,
     "metadata": {},
     "output_type": "execute_result"
    }
   ],
   "source": [
    "# Verifica a quantidade de alunos com as provas anuladas ou que faltaram\n",
    "len(numericos[numericos.TP_PRESENCA_CH != 1])"
   ]
  },
  {
   "cell_type": "code",
   "execution_count": 16,
   "metadata": {},
   "outputs": [
    {
     "data": {
      "text/plain": [
       "3389"
      ]
     },
     "execution_count": 16,
     "metadata": {},
     "output_type": "execute_result"
    }
   ],
   "source": [
    "# Verifica a quantidade de alunos com as provas anuladas ou que faltaram\n",
    "len(numericos[numericos.TP_PRESENCA_CN != 1])"
   ]
  },
  {
   "cell_type": "code",
   "execution_count": 17,
   "metadata": {},
   "outputs": [
    {
     "data": {
      "text/plain": [
       "3597"
      ]
     },
     "execution_count": 17,
     "metadata": {},
     "output_type": "execute_result"
    }
   ],
   "source": [
    "# Verifica a quantidade de alunos com as provas anuladas ou que faltaram\n",
    "len(numericos[numericos.TP_PRESENCA_LC != 1])"
   ]
  },
  {
   "cell_type": "code",
   "execution_count": 18,
   "metadata": {},
   "outputs": [
    {
     "data": {
      "text/plain": [
       "TARGET                    1.000000\n",
       "NU_NOTA_CN                0.584941\n",
       "NU_NOTA_CH                0.529594\n",
       "NU_NOTA_LC                0.494695\n",
       "NU_NOTA_REDACAO           0.379376\n",
       "TP_DEPENDENCIA_ADM_ESC    0.373233\n",
       "NU_NOTA_COMP3             0.350307\n",
       "NU_NOTA_COMP5             0.343337\n",
       "NU_NOTA_COMP4             0.342282\n",
       "NU_NOTA_COMP2             0.335638\n",
       "NU_NOTA_COMP1             0.299402\n",
       "CO_UF_RESIDENCIA          0.107493\n",
       "TP_ESCOLA                 0.069304\n",
       "TP_ANO_CONCLUIU           0.029039\n",
       "IN_DISCALCULIA            0.009813\n",
       "TP_PRESENCA_CH            0.003552\n",
       "TP_PRESENCA_CN            0.003552\n",
       "IN_DISLEXIA               0.001453\n",
       "IN_BAIXA_VISAO            0.000685\n",
       "IN_GESTANTE              -0.000945\n",
       "IN_IDOSO                 -0.011336\n",
       "IN_SURDEZ                -0.015249\n",
       "IN_SABATISTA             -0.016459\n",
       "IN_TREINEIRO             -0.022287\n",
       "TP_NACIONALIDADE         -0.034965\n",
       "TP_STATUS_REDACAO        -0.059376\n",
       "NU_IDADE                 -0.061485\n",
       "TP_ENSINO                -0.086353\n",
       "TP_ST_CONCLUSAO          -0.087869\n",
       "TP_COR_RACA              -0.157364\n",
       "TP_LINGUA                -0.201726\n",
       "IN_CEGUEIRA                    NaN\n",
       "TP_PRESENCA_LC                 NaN\n",
       "TP_PRESENCA_MT                 NaN\n",
       "Name: TARGET, dtype: float64"
      ]
     },
     "execution_count": 18,
     "metadata": {},
     "output_type": "execute_result"
    }
   ],
   "source": [
    "numericos.corr().iloc[:,-1].sort_values(ascending=False)"
   ]
  },
  {
   "cell_type": "code",
   "execution_count": 19,
   "metadata": {},
   "outputs": [
    {
     "data": {
      "text/plain": [
       "Index(['CO_UF_RESIDENCIA', 'NU_IDADE', 'TP_COR_RACA', 'TP_NACIONALIDADE',\n",
       "       'TP_ST_CONCLUSAO', 'TP_ANO_CONCLUIU', 'TP_ESCOLA', 'TP_ENSINO',\n",
       "       'IN_TREINEIRO', 'TP_DEPENDENCIA_ADM_ESC', 'IN_BAIXA_VISAO',\n",
       "       'IN_CEGUEIRA', 'IN_SURDEZ', 'IN_DISLEXIA', 'IN_DISCALCULIA',\n",
       "       'IN_SABATISTA', 'IN_GESTANTE', 'IN_IDOSO', 'TP_PRESENCA_CN',\n",
       "       'TP_PRESENCA_CH', 'TP_PRESENCA_LC', 'NU_NOTA_CN', 'NU_NOTA_CH',\n",
       "       'NU_NOTA_LC', 'TP_LINGUA', 'TP_STATUS_REDACAO', 'NU_NOTA_COMP1',\n",
       "       'NU_NOTA_COMP2', 'NU_NOTA_COMP3', 'NU_NOTA_COMP4', 'NU_NOTA_COMP5',\n",
       "       'NU_NOTA_REDACAO', 'TP_PRESENCA_MT', 'TARGET'],\n",
       "      dtype='object')"
      ]
     },
     "execution_count": 19,
     "metadata": {},
     "output_type": "execute_result"
    }
   ],
   "source": [
    "numericos.columns"
   ]
  },
  {
   "cell_type": "markdown",
   "metadata": {},
   "source": [
    "---\n",
    "\n",
    "- Para que não seja perdida nenhum tipo de informação podemos criar novas categorias que irão representar os dados inválidos de algumas variáveis.\n",
    "- A hipótese de que os dados inválidos das colunas de notas correspodem realmente com os mesmos candidatos que faltaram ou tiveram a prova cancelada por algum motivo.\n",
    "- Tambem foi verificado quais variáveis possuem maior correlação com a variável alvo das predições, mesmo que um nível alto de correlação não implique necessáriamente causalidade, seu valor pode ser um indicativo da importancia dessa variável."
   ]
  },
  {
   "cell_type": "markdown",
   "metadata": {},
   "source": [
    "# Pré - processamento\n",
    "Nesta etapa serão transformados e tratados os dados, afim de diminuir suas inconsistências e tornar o processo de definição das variáveis do modelo (**feature selection**) mais fácil e precisa."
   ]
  },
  {
   "cell_type": "markdown",
   "metadata": {},
   "source": [
    "## Pré - processamento: Tratamento de Valores inválidos - Variáveis categóricas\n",
    "Algo que pode ser feito é a criação de uma nova categoria para a coluna Q027 que receberá os valores inválidos.  \n",
    "Como ela possui 13 categorias, representadas pelas letras A até M, a nova categoria que representará os dados não definidos será a letra **N**."
   ]
  },
  {
   "cell_type": "code",
   "execution_count": null,
   "metadata": {},
   "outputs": [],
   "source": []
  },
  {
   "cell_type": "code",
   "execution_count": 20,
   "metadata": {},
   "outputs": [
    {
     "name": "stderr",
     "output_type": "stream",
     "text": [
      "C:\\Users\\alber\\anaconda3\\lib\\site-packages\\pandas\\core\\frame.py:4153: SettingWithCopyWarning: \n",
      "A value is trying to be set on a copy of a slice from a DataFrame\n",
      "\n",
      "See the caveats in the documentation: https://pandas.pydata.org/pandas-docs/stable/user_guide/indexing.html#returning-a-view-versus-a-copy\n",
      "  downcast=downcast,\n"
     ]
    }
   ],
   "source": [
    "categoricos.fillna('N', inplace=True)"
   ]
  },
  {
   "cell_type": "markdown",
   "metadata": {},
   "source": [
    "## Pré - processamento: Tratamento de Valores inválidos  - Variáveis numéricas\n",
    "\n",
    "\n",
    "As variáveis possuem dois tipos de casos específicos em seus valores inválidos:\n",
    "\n",
    "- Os valores inválidos das colunas de notas corresponde ao cruzamento dos dados dos alunos que faltaram na prova ou tiveram a mesma cancelada, o que podemos concluir que faz sentido atribuir o valor 0 (zero) para elas.\n",
    "\n",
    "\n",
    "- As colunas TP_ENSINO e TP_DEPENDENCIA_ADM_ESC não possuem motivos aparentes para o surgimento dos valores inválidos, o fato de serem informações referentes a escola e por possuirem a mesma quantidade de valores inválidos podem ser indicadores que ocorreram erros na coleta dos dados. Neste caso, para que não seja desperdiçada as informações, será criada uma nova categoria para cada variável que representará os valores inválidos: TP_ENSINO receberá a categoria **4** - Indefinido e a TP_DEPENDENCIA_ADM_ESC a categoria **5** - Indefinido.\n",
    "\n",
    "\n",
    "- A variável alvo (nota de matemática) possui os valores inválidos equivalentes aos alunos que não fizeram a prova, com uma diferença: o arquivo disponibilizado para que seja feita as previsões finais da competição **não** possui a coluna que define se o aluno estava presente na realização da prova, o que nos faz partir do pressuposto que todos os alunos presentes no conjunto de teste estavam presentes na prova. Por isso, para o treinamento dos modelos serão usados apenas os dados válidos (aluno presente e que não teve a prova anulada) para o treinamento."
   ]
  },
  {
   "cell_type": "code",
   "execution_count": 21,
   "metadata": {},
   "outputs": [
    {
     "name": "stderr",
     "output_type": "stream",
     "text": [
      "C:\\Users\\alber\\anaconda3\\lib\\site-packages\\pandas\\core\\generic.py:6245: SettingWithCopyWarning: \n",
      "A value is trying to be set on a copy of a slice from a DataFrame\n",
      "\n",
      "See the caveats in the documentation: https://pandas.pydata.org/pandas-docs/stable/user_guide/indexing.html#returning-a-view-versus-a-copy\n",
      "  self._update_inplace(new_data)\n"
     ]
    }
   ],
   "source": [
    "#Cria as novas categorias\n",
    "numericos['TP_ENSINO'].fillna(4,inplace=True)\n",
    "numericos['TP_DEPENDENCIA_ADM_ESC'].fillna(5,inplace=True)\n",
    "numericos['TP_STATUS_REDACAO'].fillna(10, inplace=True)\n"
   ]
  },
  {
   "cell_type": "code",
   "execution_count": 22,
   "metadata": {},
   "outputs": [
    {
     "data": {
      "text/plain": [
       "Index(['CO_UF_RESIDENCIA', 'NU_IDADE', 'TP_COR_RACA', 'TP_NACIONALIDADE',\n",
       "       'TP_ST_CONCLUSAO', 'TP_ANO_CONCLUIU', 'TP_ESCOLA', 'TP_ENSINO',\n",
       "       'IN_TREINEIRO', 'TP_DEPENDENCIA_ADM_ESC', 'IN_BAIXA_VISAO',\n",
       "       'IN_CEGUEIRA', 'IN_SURDEZ', 'IN_DISLEXIA', 'IN_DISCALCULIA',\n",
       "       'IN_SABATISTA', 'IN_GESTANTE', 'IN_IDOSO', 'TP_PRESENCA_CN',\n",
       "       'TP_PRESENCA_CH', 'TP_PRESENCA_LC', 'NU_NOTA_CN', 'NU_NOTA_CH',\n",
       "       'NU_NOTA_LC', 'TP_LINGUA', 'TP_STATUS_REDACAO', 'NU_NOTA_COMP1',\n",
       "       'NU_NOTA_COMP2', 'NU_NOTA_COMP3', 'NU_NOTA_COMP4', 'NU_NOTA_COMP5',\n",
       "       'NU_NOTA_REDACAO'],\n",
       "      dtype='object')"
      ]
     },
     "execution_count": 22,
     "metadata": {},
     "output_type": "execute_result"
    }
   ],
   "source": [
    "numericos.columns[:-2]"
   ]
  },
  {
   "cell_type": "code",
   "execution_count": 23,
   "metadata": {},
   "outputs": [],
   "source": [
    "# seta os valores 0 das notas\n",
    "numericos.fillna(0,inplace=True)\n"
   ]
  },
  {
   "cell_type": "markdown",
   "metadata": {},
   "source": [
    "---\n",
    "\n",
    "Com isso eliminamos os valores inválidos.  \n",
    "O próximo passo é diminuir a quantidade de categorias para a criação das variávies dummies"
   ]
  },
  {
   "cell_type": "markdown",
   "metadata": {},
   "source": [
    "## Pré - processamento: Diminuição de dimensionalidade\n",
    "Podemos diminuir as colunas TP_PRESENCA_LC, TP_PRESENCA_CH, TP_PRESENCA_CN para apenas 2:\n",
    "- 0 - Faltou a prova\n",
    "- 1 - Presente\n",
    "\n",
    "A coluna TP_PRESENCA_MT não precisará ser modificada pois ela será retirada mais a frente"
   ]
  },
  {
   "cell_type": "code",
   "execution_count": 24,
   "metadata": {},
   "outputs": [
    {
     "name": "stderr",
     "output_type": "stream",
     "text": [
      "C:\\Users\\alber\\anaconda3\\lib\\site-packages\\ipykernel_launcher.py:3: SettingWithCopyWarning: \n",
      "A value is trying to be set on a copy of a slice from a DataFrame.\n",
      "Try using .loc[row_indexer,col_indexer] = value instead\n",
      "\n",
      "See the caveats in the documentation: https://pandas.pydata.org/pandas-docs/stable/user_guide/indexing.html#returning-a-view-versus-a-copy\n",
      "  This is separate from the ipykernel package so we can avoid doing imports until\n"
     ]
    }
   ],
   "source": [
    "# Diminuir as categorias\n",
    "for i in ['TP_PRESENCA_LC', 'TP_PRESENCA_CH', 'TP_PRESENCA_CN']:\n",
    "    numericos[i] = np.where(numericos[i] != 1, 0, 1)\n",
    "    teste[i] = np.where(teste[i] != 1, 0, 1)"
   ]
  },
  {
   "cell_type": "code",
   "execution_count": 25,
   "metadata": {},
   "outputs": [
    {
     "data": {
      "text/plain": [
       "TARGET                    1.000000\n",
       "NU_NOTA_LC                0.943954\n",
       "TP_PRESENCA_LC            0.927129\n",
       "TP_PRESENCA_MT            0.923641\n",
       "NU_NOTA_CN                0.907039\n",
       "NU_NOTA_CH                0.903608\n",
       "NU_NOTA_COMP1             0.882746\n",
       "TP_PRESENCA_CH            0.879128\n",
       "TP_PRESENCA_CN            0.879128\n",
       "NU_NOTA_REDACAO           0.875929\n",
       "NU_NOTA_COMP4             0.866827\n",
       "NU_NOTA_COMP2             0.862709\n",
       "NU_NOTA_COMP3             0.854946\n",
       "NU_NOTA_COMP5             0.722275\n",
       "TP_ESCOLA                 0.189084\n",
       "IN_TREINEIRO              0.078804\n",
       "TP_ST_CONCLUSAO           0.023736\n",
       "IN_DISCALCULIA            0.008392\n",
       "IN_DISLEXIA               0.005259\n",
       "CO_UF_RESIDENCIA          0.002613\n",
       "IN_SABATISTA             -0.002457\n",
       "IN_SURDEZ                -0.002617\n",
       "IN_BAIXA_VISAO           -0.006546\n",
       "IN_IDOSO                 -0.009061\n",
       "IN_GESTANTE              -0.028129\n",
       "TP_NACIONALIDADE         -0.033130\n",
       "TP_COR_RACA              -0.070239\n",
       "TP_DEPENDENCIA_ADM_ESC   -0.109590\n",
       "TP_LINGUA                -0.111428\n",
       "TP_ENSINO                -0.170841\n",
       "TP_ANO_CONCLUIU          -0.191553\n",
       "NU_IDADE                 -0.240874\n",
       "TP_STATUS_REDACAO        -0.919747\n",
       "IN_CEGUEIRA                    NaN\n",
       "Name: TARGET, dtype: float64"
      ]
     },
     "execution_count": 25,
     "metadata": {},
     "output_type": "execute_result"
    }
   ],
   "source": [
    "# podemos verificar novamente os valores de correlação para saber se os valores foram alterados depois das transformações\n",
    "numericos.corr().iloc[:,-1].sort_values(ascending=False)"
   ]
  },
  {
   "cell_type": "markdown",
   "metadata": {},
   "source": [
    "---\n",
    "\n",
    "Com isso podemos ver algumas coisas interessantes:\n",
    "- As notas das provas continuam sendo as variáveis com as maiores correlações positivas.\n",
    "- É possivel ver outras variáveis com seus respectivos valores de correlação que antes não apareciam, como é o caso da TP_STATUS_REDACAO."
   ]
  },
  {
   "cell_type": "markdown",
   "metadata": {},
   "source": [
    "## Pré - processamento: Reorganizando os dados em um dataframe único novamente"
   ]
  },
  {
   "cell_type": "code",
   "execution_count": 26,
   "metadata": {},
   "outputs": [],
   "source": [
    "# Separar em alunos que estavam presentes nas provas de matematica\n",
    "dados = pd.concat((categoricos,numericos), axis=1)\n",
    "\n",
    "# Dados de alunos que fizeram a prova de matematica\n",
    "#dados = dados[dados.TP_PRESENCA_MT == 1]\n",
    "\n",
    "# Retirar a coluna que não será usada\n",
    "dados.drop('TP_PRESENCA_MT', inplace=True, axis=1)"
   ]
  },
  {
   "cell_type": "markdown",
   "metadata": {},
   "source": [
    "# Caso 23 \n",
    "## Obs: este é um notebook com o modelo já selecionado, por isso a marcação 23 (Testes anteriores incluiram features e algoritmos diferentes): \n",
    "\n",
    "\n",
    "- **Feature Selection**: NU_NOTA_CN,NU_NOTA_CH,NU_NOTA_LC, NU_NOTA_REDACAO, NU_PONDERADA.  \n",
    "- **Tratamento para variáveis numéricas**: Escalonamento.  \n",
    "- **Algoritmos usados**: Redes neurais\n",
    "- **Métricas de Avaliação**: MAE, MSE, RMSE\n"
   ]
  },
  {
   "cell_type": "code",
   "execution_count": 29,
   "metadata": {},
   "outputs": [
    {
     "name": "stderr",
     "output_type": "stream",
     "text": [
      "C:\\Users\\alber\\anaconda3\\lib\\site-packages\\ipykernel_launcher.py:14: SettingWithCopyWarning: \n",
      "A value is trying to be set on a copy of a slice from a DataFrame.\n",
      "Try using .loc[row_indexer,col_indexer] = value instead\n",
      "\n",
      "See the caveats in the documentation: https://pandas.pydata.org/pandas-docs/stable/user_guide/indexing.html#returning-a-view-versus-a-copy\n",
      "  \n"
     ]
    }
   ],
   "source": [
    "# pega os labels correspondentes, excluindo a inscrição\n",
    "label_numericos = ['NU_NOTA_CN','NU_NOTA_CH','NU_NOTA_LC', 'NU_NOTA_REDACAO']\n",
    "\n",
    "# Criação do dataframe de caso de teste 13\n",
    "c23 = dados[label_numericos]\n",
    "\n",
    "\n",
    "# Função para aplicar a média ponderada\n",
    "def media(col):\n",
    "    ponderada = ((col[0] * 2) + col[1] + (col[2] * 1.5) + (col[3] * 3)) / 7.5\n",
    "    \n",
    "    return ponderada\n",
    "\n",
    "c23['NU_PONDERADA'] = c23.apply(media, axis=1)\n",
    "\n",
    "\n",
    "\n",
    "\n",
    "# Escalonamento\n",
    "scaler_x = StandardScaler()\n",
    "\n",
    "c23 = scaler_x.fit_transform(c23.values) \n",
    "\n",
    "scaler_y = StandardScaler()\n",
    "\n",
    "y = dados.TARGET\n",
    "\n",
    "y = y.values\n",
    "\n",
    "y = scaler_y.fit_transform(y.reshape(-1,1))\n",
    "\n",
    "y = y.ravel()"
   ]
  },
  {
   "cell_type": "code",
   "execution_count": 30,
   "metadata": {},
   "outputs": [],
   "source": [
    "x_train, x_test,y_train, y_test = train_test_split(c23, y, test_size=0.2)\n"
   ]
  },
  {
   "cell_type": "markdown",
   "metadata": {},
   "source": [
    "## MLPRegressor"
   ]
  },
  {
   "cell_type": "code",
   "execution_count": 31,
   "metadata": {},
   "outputs": [
    {
     "name": "stdout",
     "output_type": "stream",
     "text": [
      "Iteration 1, loss = 0.06959808\n",
      "Iteration 2, loss = 0.04155524\n",
      "Iteration 3, loss = 0.04014294\n",
      "Iteration 4, loss = 0.03940875\n",
      "Iteration 5, loss = 0.03914821\n",
      "Iteration 6, loss = 0.03929728\n",
      "Iteration 7, loss = 0.03864834\n",
      "Iteration 8, loss = 0.03863347\n",
      "Iteration 9, loss = 0.03865044\n",
      "Iteration 10, loss = 0.03857154\n",
      "Iteration 11, loss = 0.03856064\n",
      "Iteration 12, loss = 0.03864195\n",
      "Iteration 13, loss = 0.03861805\n",
      "Iteration 14, loss = 0.03834635\n",
      "Iteration 15, loss = 0.03839658\n",
      "Iteration 16, loss = 0.03863653\n",
      "Iteration 17, loss = 0.03841582\n",
      "Iteration 18, loss = 0.03842249\n",
      "Iteration 19, loss = 0.03851979\n",
      "Iteration 20, loss = 0.03868538\n",
      "Iteration 21, loss = 0.03846421\n",
      "Iteration 22, loss = 0.03868086\n",
      "Iteration 23, loss = 0.03837883\n",
      "Iteration 24, loss = 0.03827090\n",
      "Iteration 25, loss = 0.03839220\n",
      "Iteration 26, loss = 0.03820019\n",
      "Iteration 27, loss = 0.03840664\n",
      "Iteration 28, loss = 0.03848963\n",
      "Iteration 29, loss = 0.03825186\n",
      "Iteration 30, loss = 0.03846089\n",
      "Iteration 31, loss = 0.03830902\n",
      "Iteration 32, loss = 0.03817018\n",
      "Iteration 33, loss = 0.03817300\n",
      "Iteration 34, loss = 0.03812386\n",
      "Iteration 35, loss = 0.03877979\n",
      "Iteration 36, loss = 0.03835805\n",
      "Iteration 37, loss = 0.03830428\n",
      "Iteration 38, loss = 0.03847310\n",
      "Iteration 39, loss = 0.03839532\n",
      "Iteration 40, loss = 0.03814041\n",
      "Iteration 41, loss = 0.03823732\n",
      "Iteration 42, loss = 0.03872224\n",
      "Iteration 43, loss = 0.03834737\n",
      "Iteration 44, loss = 0.03821766\n",
      "Iteration 45, loss = 0.03808869\n",
      "Iteration 46, loss = 0.03831427\n",
      "Iteration 47, loss = 0.03850750\n",
      "Iteration 48, loss = 0.03829758\n",
      "Iteration 49, loss = 0.03823998\n",
      "Iteration 50, loss = 0.03813021\n",
      "Iteration 51, loss = 0.03809729\n",
      "Iteration 52, loss = 0.03819750\n",
      "Iteration 53, loss = 0.03801882\n",
      "Iteration 54, loss = 0.03811193\n",
      "Iteration 55, loss = 0.03805778\n",
      "Iteration 56, loss = 0.03807428\n",
      "Iteration 57, loss = 0.03852587\n",
      "Iteration 58, loss = 0.03839617\n",
      "Iteration 59, loss = 0.03807406\n",
      "Iteration 60, loss = 0.03839678\n",
      "Iteration 61, loss = 0.03833942\n",
      "Iteration 62, loss = 0.03829477\n",
      "Iteration 63, loss = 0.03825172\n",
      "Iteration 64, loss = 0.03823727\n",
      "Training loss did not improve more than tol=0.000001 for 10 consecutive epochs. Stopping.\n"
     ]
    },
    {
     "data": {
      "text/plain": [
       "0.9232292653316262"
      ]
     },
     "execution_count": 31,
     "metadata": {},
     "output_type": "execute_result"
    }
   ],
   "source": [
    "# modelo sem ajustes\n",
    "mlp_model = MLPRegressor(hidden_layer_sizes=(77),   \n",
    "                         verbose=True,\n",
    "                         max_iter=1000,\n",
    "                         tol=0.000001,)\n",
    "mlp_model.fit(x_train, y_train)\n",
    "mlp_predict = mlp_model.predict(x_test)\n",
    "#plt.scatter(y_test, mlp_predict)\n",
    "\n",
    "mlp_model.score(x_train, y_train)"
   ]
  },
  {
   "cell_type": "code",
   "execution_count": 32,
   "metadata": {},
   "outputs": [
    {
     "data": {
      "text/plain": [
       "0.9201883094813579"
      ]
     },
     "execution_count": 32,
     "metadata": {},
     "output_type": "execute_result"
    }
   ],
   "source": [
    "mlp_model.score(x_test, y_test)"
   ]
  },
  {
   "cell_type": "code",
   "execution_count": 33,
   "metadata": {},
   "outputs": [
    {
     "data": {
      "text/plain": [
       "<matplotlib.axes._subplots.AxesSubplot at 0x20191322788>"
      ]
     },
     "execution_count": 33,
     "metadata": {},
     "output_type": "execute_result"
    },
    {
     "data": {
      "image/png": "[encoded data removed]",
      "text/plain": [
       "<Figure size 432x288 with 1 Axes>"
      ]
     },
     "metadata": {
      "needs_background": "light"
     },
     "output_type": "display_data"
    }
   ],
   "source": [
    "sns.distplot(scaler_y.inverse_transform(y_test) - scaler_y.inverse_transform(mlp_predict))"
   ]
  },
  {
   "cell_type": "code",
   "execution_count": 34,
   "metadata": {},
   "outputs": [
    {
     "name": "stdout",
     "output_type": "stream",
     "text": [
      "MAE: 45.96293109013058\n",
      "MSE: 4196.998546754842\n",
      "RMSE: 64.78424613094485\n"
     ]
    }
   ],
   "source": [
    "# métricas\n",
    "print('MAE: {}\\nMSE: {}\\nRMSE: {}'.format(\n",
    "    mean_absolute_error(scaler_y.inverse_transform(y_test), scaler_y.inverse_transform(mlp_predict)),\n",
    "    mean_squared_error(scaler_y.inverse_transform(y_test), scaler_y.inverse_transform(mlp_predict)),\n",
    "    np.sqrt(mean_squared_error(scaler_y.inverse_transform(y_test), scaler_y.inverse_transform(mlp_predict)))))"
   ]
  },
  {
   "cell_type": "markdown",
   "metadata": {},
   "source": [
    "# Arquivo: pré-processamento"
   ]
  },
  {
   "cell_type": "code",
   "execution_count": 37,
   "metadata": {},
   "outputs": [],
   "source": [
    "c23_test = pd.read_csv('test.csv')\n",
    "c23_test = c23_test[label_numericos]\n",
    "# seta os valores 0 das notas\n",
    "c23_test.fillna(-20,inplace=True)\n",
    "\n",
    "c23_test['NU_NOTA_PONDERADA'] = c23_test.apply(media, axis=1)\n",
    "\n",
    "c23_test = scaler_x.transform(c23_test.values)"
   ]
  },
  {
   "cell_type": "code",
   "execution_count": 38,
   "metadata": {},
   "outputs": [],
   "source": [
    "resposta = pd.read_csv('test.csv', usecols=['NU_INSCRICAO'])\n",
    "\n",
    "# GERA O RESULTADO COM mlp\n",
    "previsao = mlp_model.predict(c23_test)\n",
    "resposta['NU_NOTA_MT'] = scaler_y.inverse_transform(previsao)\n",
    "resposta.to_csv('answer.csv', index=False)\n"
   ]
  },
  {
   "cell_type": "code",
   "execution_count": null,
   "metadata": {},
   "outputs": [],
   "source": []
  }
 ],
 "metadata": {
  "kernelspec": {
   "display_name": "Python 3",
   "language": "python",
   "name": "python3"
  },
  "language_info": {
   "codemirror_mode": {
    "name": "ipython",
    "version": 3
   },
   "file_extension": ".py",
   "mimetype": "text/x-python",
   "name": "python",
   "nbconvert_exporter": "python",
   "pygments_lexer": "ipython3",
   "version": "3.7.6"
  }
 },
 "nbformat": 4,
 "nbformat_minor": 4
}
