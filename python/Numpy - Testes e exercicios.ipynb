{
 "cells": [
  {
   "cell_type": "markdown",
   "metadata": {},
   "source": [
    "# Testes com numpy"
   ]
  },
  {
   "cell_type": "code",
   "execution_count": 1,
   "metadata": {},
   "outputs": [],
   "source": [
    "import numpy as np"
   ]
  },
  {
   "cell_type": "markdown",
   "metadata": {},
   "source": [
    "### Criar um vetor de 100 elementos com numpy apartir de uma lista"
   ]
  },
  {
   "cell_type": "code",
   "execution_count": 2,
   "metadata": {},
   "outputs": [
    {
     "data": {
      "text/plain": [
       "array([ 0,  1,  2,  3,  4,  5,  6,  7,  8,  9, 10, 11, 12, 13, 14, 15, 16,\n",
       "       17, 18, 19, 20, 21, 22, 23, 24, 25, 26, 27, 28, 29, 30, 31, 32, 33,\n",
       "       34, 35, 36, 37, 38, 39, 40, 41, 42, 43, 44, 45, 46, 47, 48, 49, 50,\n",
       "       51, 52, 53, 54, 55, 56, 57, 58, 59, 60, 61, 62, 63, 64, 65, 66, 67,\n",
       "       68, 69, 70, 71, 72, 73, 74, 75, 76, 77, 78, 79, 80, 81, 82, 83, 84,\n",
       "       85, 86, 87, 88, 89, 90, 91, 92, 93, 94, 95, 96, 97, 98, 99])"
      ]
     },
     "execution_count": 2,
     "metadata": {},
     "output_type": "execute_result"
    }
   ],
   "source": [
    "a = list(range(100));\n",
    "v = np.array(a)\n",
    "v"
   ]
  },
  {
   "cell_type": "markdown",
   "metadata": {},
   "source": [
    "### Criar um vetor de 100 elementos com numpy"
   ]
  },
  {
   "cell_type": "code",
   "execution_count": 3,
   "metadata": {},
   "outputs": [
    {
     "data": {
      "text/plain": [
       "array([ 0,  1,  2,  3,  4,  5,  6,  7,  8,  9, 10, 11, 12, 13, 14, 15, 16,\n",
       "       17, 18, 19, 20, 21, 22, 23, 24, 25, 26, 27, 28, 29, 30, 31, 32, 33,\n",
       "       34, 35, 36, 37, 38, 39, 40, 41, 42, 43, 44, 45, 46, 47, 48, 49, 50,\n",
       "       51, 52, 53, 54, 55, 56, 57, 58, 59, 60, 61, 62, 63, 64, 65, 66, 67,\n",
       "       68, 69, 70, 71, 72, 73, 74, 75, 76, 77, 78, 79, 80, 81, 82, 83, 84,\n",
       "       85, 86, 87, 88, 89, 90, 91, 92, 93, 94, 95, 96, 97, 98, 99])"
      ]
     },
     "execution_count": 3,
     "metadata": {},
     "output_type": "execute_result"
    }
   ],
   "source": [
    "v2 = np.arange(100)\n",
    "v2"
   ]
  },
  {
   "cell_type": "markdown",
   "metadata": {},
   "source": [
    "### Criar uma matriz 5x5 de zeros"
   ]
  },
  {
   "cell_type": "code",
   "execution_count": 47,
   "metadata": {},
   "outputs": [
    {
     "data": {
      "text/plain": [
       "array([[0., 0., 0., 0., 0.],\n",
       "       [0., 0., 0., 0., 0.],\n",
       "       [0., 0., 0., 0., 0.],\n",
       "       [0., 0., 0., 0., 0.],\n",
       "       [0., 0., 0., 0., 0.]])"
      ]
     },
     "execution_count": 47,
     "metadata": {},
     "output_type": "execute_result"
    }
   ],
   "source": [
    "m = np.zeros((5,5))\n",
    "m"
   ]
  },
  {
   "cell_type": "markdown",
   "metadata": {},
   "source": [
    "### Criar uma matriz 3x7 de uns"
   ]
  },
  {
   "cell_type": "code",
   "execution_count": 48,
   "metadata": {},
   "outputs": [
    {
     "data": {
      "text/plain": [
       "array([[1., 1., 1., 1., 1., 1., 1.],\n",
       "       [1., 1., 1., 1., 1., 1., 1.],\n",
       "       [1., 1., 1., 1., 1., 1., 1.]])"
      ]
     },
     "execution_count": 48,
     "metadata": {},
     "output_type": "execute_result"
    }
   ],
   "source": [
    "m2 = np.ones((3,7))\n",
    "m2"
   ]
  },
  {
   "cell_type": "markdown",
   "metadata": {},
   "source": [
    "### Criar uma matriz 4x3 de cincos"
   ]
  },
  {
   "cell_type": "code",
   "execution_count": 51,
   "metadata": {},
   "outputs": [
    {
     "data": {
      "text/plain": [
       "array([[5, 5, 5],\n",
       "       [5, 5, 5],\n",
       "       [5, 5, 5],\n",
       "       [5, 5, 5]])"
      ]
     },
     "execution_count": 51,
     "metadata": {},
     "output_type": "execute_result"
    }
   ],
   "source": [
    "m3 = np.full((4,3),5)\n",
    "m3"
   ]
  },
  {
   "cell_type": "markdown",
   "metadata": {},
   "source": [
    "### Criar uma matriz identidade de 5x5"
   ]
  },
  {
   "cell_type": "code",
   "execution_count": 54,
   "metadata": {},
   "outputs": [
    {
     "data": {
      "text/plain": [
       "array([[1., 0., 0., 0., 0.],\n",
       "       [0., 1., 0., 0., 0.],\n",
       "       [0., 0., 1., 0., 0.],\n",
       "       [0., 0., 0., 1., 0.],\n",
       "       [0., 0., 0., 0., 1.]])"
      ]
     },
     "execution_count": 54,
     "metadata": {},
     "output_type": "execute_result"
    }
   ],
   "source": [
    "m4 = np.eye(5)\n",
    "m4"
   ]
  },
  {
   "cell_type": "markdown",
   "metadata": {},
   "source": [
    "### Criar uma sequencia de 100 números de um intervalo de 0 a 10000"
   ]
  },
  {
   "cell_type": "code",
   "execution_count": 64,
   "metadata": {},
   "outputs": [
    {
     "data": {
      "text/plain": [
       "array([3840, 9806, 3120, 7519, 9047, 2248, 9411, 9507,   61,  930,  865,\n",
       "       1594, 2842, 3155, 7194, 7287, 5944, 2626,  191, 3724, 7559, 9479,\n",
       "       2502, 2670, 6422, 6399,  159, 4968, 7868, 3565, 2440, 1608,  765,\n",
       "       1977, 7493, 6510, 9163, 9510, 8994, 2942, 6496, 3422,   53,  436,\n",
       "       2198, 6130, 4736, 4553,  582,  949,  614,  216, 4701, 4932, 6071,\n",
       "       9379,  290, 4285, 9144, 2272, 5837, 4342, 4787, 2609, 6005, 3553,\n",
       "       9450, 4552, 7012, 8050, 4689,  288, 4058, 3960, 4173, 9708,  928,\n",
       "       6922, 4792, 1899,  154,  612,  926, 2409,  995, 5015,  562,  625,\n",
       "       3741, 4911, 4598, 8985, 3846, 9969, 2379, 1534, 5605, 9904, 1816,\n",
       "       4129])"
      ]
     },
     "execution_count": 64,
     "metadata": {},
     "output_type": "execute_result"
    }
   ],
   "source": [
    "x = np.random.randint(0,10000,100); x"
   ]
  },
  {
   "cell_type": "markdown",
   "metadata": {},
   "source": [
    "### Slicing de arrays"
   ]
  },
  {
   "cell_type": "code",
   "execution_count": 67,
   "metadata": {},
   "outputs": [
    {
     "data": {
      "text/plain": [
       "array([3840, 9806, 3120, 7519, 9047, 2248, 9411, 9507,   61,  930])"
      ]
     },
     "execution_count": 67,
     "metadata": {},
     "output_type": "execute_result"
    }
   ],
   "source": [
    "#10 primeiros valores\n",
    "x[:10]"
   ]
  },
  {
   "cell_type": "code",
   "execution_count": 69,
   "metadata": {},
   "outputs": [
    {
     "data": {
      "text/plain": [
       "4129"
      ]
     },
     "execution_count": 69,
     "metadata": {},
     "output_type": "execute_result"
    }
   ],
   "source": [
    "#Último elemento\n",
    "x[-1]"
   ]
  },
  {
   "cell_type": "code",
   "execution_count": 71,
   "metadata": {},
   "outputs": [
    {
     "data": {
      "text/plain": [
       "array([ 865, 1594, 2842, 3155, 7194, 7287, 5944, 2626,  191, 3724, 7559,\n",
       "       9479, 2502, 2670, 6422, 6399,  159, 4968, 7868, 3565, 2440, 1608,\n",
       "        765, 1977, 7493, 6510, 9163, 9510, 8994, 2942, 6496, 3422,   53,\n",
       "        436, 2198, 6130, 4736, 4553,  582,  949,  614,  216, 4701, 4932,\n",
       "       6071, 9379,  290, 4285, 9144, 2272, 5837, 4342, 4787, 2609, 6005,\n",
       "       3553, 9450, 4552, 7012, 8050, 4689,  288, 4058, 3960, 4173, 9708,\n",
       "        928, 6922, 4792, 1899,  154,  612,  926, 2409,  995, 5015,  562,\n",
       "        625, 3741, 4911, 4598, 8985, 3846, 9969, 2379, 1534, 5605, 9904,\n",
       "       1816, 4129])"
      ]
     },
     "execution_count": 71,
     "metadata": {},
     "output_type": "execute_result"
    }
   ],
   "source": [
    "# Todos os elementos após o 10\n",
    "x[10:]"
   ]
  },
  {
   "cell_type": "code",
   "execution_count": 73,
   "metadata": {},
   "outputs": [
    {
     "data": {
      "text/plain": [
       "array([3840, 3120, 9047, 9411,   61,  865, 2842, 7194, 5944,  191, 7559,\n",
       "       2502, 6422,  159, 7868, 2440,  765, 7493, 9163, 8994, 6496,   53,\n",
       "       2198, 4736,  582,  614, 4701, 6071,  290, 9144, 5837, 4787, 6005,\n",
       "       9450, 7012, 4689, 4058, 4173,  928, 4792,  154,  926,  995,  562,\n",
       "       3741, 4598, 3846, 2379, 5605, 1816])"
      ]
     },
     "execution_count": 73,
     "metadata": {},
     "output_type": "execute_result"
    }
   ],
   "source": [
    "# todos os elementos pulando de 2 em 2\n",
    "x[::2]"
   ]
  },
  {
   "cell_type": "code",
   "execution_count": 74,
   "metadata": {},
   "outputs": [
    {
     "data": {
      "text/plain": [
       "array([4129, 1816, 9904, 5605, 1534, 2379, 9969, 3846, 8985, 4598, 4911,\n",
       "       3741,  625,  562, 5015,  995, 2409,  926,  612,  154, 1899, 4792,\n",
       "       6922,  928, 9708, 4173, 3960, 4058,  288, 4689, 8050, 7012, 4552,\n",
       "       9450, 3553, 6005, 2609, 4787, 4342, 5837, 2272, 9144, 4285,  290,\n",
       "       9379, 6071, 4932, 4701,  216,  614,  949,  582, 4553, 4736, 6130,\n",
       "       2198,  436,   53, 3422, 6496, 2942, 8994, 9510, 9163, 6510, 7493,\n",
       "       1977,  765, 1608, 2440, 3565, 7868, 4968,  159, 6399, 6422, 2670,\n",
       "       2502, 9479, 7559, 3724,  191, 2626, 5944, 7287, 7194, 3155, 2842,\n",
       "       1594,  865,  930,   61, 9507, 9411, 2248, 9047, 7519, 3120, 9806,\n",
       "       3840])"
      ]
     },
     "execution_count": 74,
     "metadata": {},
     "output_type": "execute_result"
    }
   ],
   "source": [
    "# array reverso\n",
    "x[::-1]"
   ]
  },
  {
   "cell_type": "code",
   "execution_count": 83,
   "metadata": {},
   "outputs": [
    {
     "data": {
      "text/plain": [
       "array([[3840, 9806, 3120, 7519, 9047, 2248, 9411, 9507,   61,  930],\n",
       "       [ 865, 1594, 2842, 3155, 7194, 7287, 5944, 2626,  191, 3724],\n",
       "       [7559, 9479, 2502, 2670, 6422, 6399,  159, 4968, 7868, 3565],\n",
       "       [2440, 1608,  765, 1977, 7493, 6510, 9163, 9510, 8994, 2942],\n",
       "       [6496, 3422,   53,  436, 2198, 6130, 4736, 4553,  582,  949],\n",
       "       [ 614,  216, 4701, 4932, 6071, 9379,  290, 4285, 9144, 2272],\n",
       "       [5837, 4342, 4787, 2609, 6005, 3553, 9450, 4552, 7012, 8050],\n",
       "       [4689,  288, 4058, 3960, 4173, 9708,  928, 6922, 4792, 1899],\n",
       "       [ 154,  612,  926, 2409,  995, 5015,  562,  625, 3741, 4911],\n",
       "       [4598, 8985, 3846, 9969, 2379, 1534, 5605, 9904, 1816, 4129]])"
      ]
     },
     "execution_count": 83,
     "metadata": {},
     "output_type": "execute_result"
    }
   ],
   "source": [
    "# Slicing com matriz\n",
    "y = x.reshape(10,10)\n",
    "y"
   ]
  },
  {
   "cell_type": "code",
   "execution_count": 85,
   "metadata": {},
   "outputs": [
    {
     "data": {
      "text/plain": [
       "array([3840, 9806, 3120, 7519, 9047, 2248, 9411, 9507,   61,  930])"
      ]
     },
     "execution_count": 85,
     "metadata": {},
     "output_type": "execute_result"
    }
   ],
   "source": [
    "# Primeira linha\n",
    "y[0]"
   ]
  },
  {
   "cell_type": "code",
   "execution_count": 86,
   "metadata": {},
   "outputs": [
    {
     "data": {
      "text/plain": [
       "array([4598, 8985, 3846, 9969, 2379, 1534, 5605, 9904, 1816, 4129])"
      ]
     },
     "execution_count": 86,
     "metadata": {},
     "output_type": "execute_result"
    }
   ],
   "source": [
    "# Última linha \n",
    "y[-1]"
   ]
  },
  {
   "cell_type": "code",
   "execution_count": 87,
   "metadata": {},
   "outputs": [
    {
     "data": {
      "text/plain": [
       "53"
      ]
     },
     "execution_count": 87,
     "metadata": {},
     "output_type": "execute_result"
    }
   ],
   "source": [
    "# Elemento na posição 5x3(53)\n",
    "y[4][2]"
   ]
  },
  {
   "cell_type": "code",
   "execution_count": 101,
   "metadata": {},
   "outputs": [
    {
     "data": {
      "text/plain": [
       "array([9806, 1594, 9479, 1608, 3422,  216, 4342,  288,  612, 8985])"
      ]
     },
     "execution_count": 101,
     "metadata": {},
     "output_type": "execute_result"
    }
   ],
   "source": [
    "# segunda coluna \n",
    "y[:,1]"
   ]
  },
  {
   "cell_type": "code",
   "execution_count": 105,
   "metadata": {},
   "outputs": [
    {
     "data": {
      "text/plain": [
       "array([[9806],\n",
       "       [1594],\n",
       "       [9479],\n",
       "       [1608],\n",
       "       [3422],\n",
       "       [ 216],\n",
       "       [4342],\n",
       "       [ 288],\n",
       "       [ 612],\n",
       "       [8985]])"
      ]
     },
     "execution_count": 105,
     "metadata": {},
     "output_type": "execute_result"
    }
   ],
   "source": [
    "# apresentar em formato de coluna\n",
    "y[:,1].reshape(10,1)"
   ]
  },
  {
   "cell_type": "code",
   "execution_count": 107,
   "metadata": {},
   "outputs": [
    {
     "data": {
      "text/plain": [
       "array([[9806],\n",
       "       [1594],\n",
       "       [9479],\n",
       "       [1608],\n",
       "       [3422],\n",
       "       [ 216],\n",
       "       [4342],\n",
       "       [ 288],\n",
       "       [ 612],\n",
       "       [8985]])"
      ]
     },
     "execution_count": 107,
     "metadata": {},
     "output_type": "execute_result"
    }
   ],
   "source": [
    "# mesmo resultado anterior mudando os eixos\n",
    "y[:,1, np.newaxis]"
   ]
  },
  {
   "cell_type": "markdown",
   "metadata": {},
   "source": [
    "### Concatenar arrays"
   ]
  },
  {
   "cell_type": "code",
   "execution_count": 5,
   "metadata": {},
   "outputs": [
    {
     "data": {
      "text/plain": [
       "array([ 0,  1,  2,  3,  4,  5,  6,  7,  8,  9, 10, 11, 12, 13, 14, 15, 16,\n",
       "       17, 18, 19, 20, 21, 22, 23, 24, 25, 26, 27, 28, 29, 30, 31, 32, 33,\n",
       "       34, 35, 36, 37, 38, 39, 40, 41, 42, 43, 44, 45, 46, 47, 48, 49, 50,\n",
       "       51, 52, 53, 54, 55, 56, 57, 58, 59, 60, 61, 62, 63, 64, 65, 66, 67,\n",
       "       68, 69, 70, 71, 72, 73, 74, 75, 76, 77, 78, 79, 80, 81, 82, 83, 84,\n",
       "       85, 86, 87, 88, 89, 90, 91, 92, 93, 94, 95, 96, 97, 98, 99,  0,  1,\n",
       "        2,  3,  4,  5,  6,  7,  8,  9, 10, 11, 12, 13, 14, 15, 16, 17, 18,\n",
       "       19, 20, 21, 22, 23, 24, 25, 26, 27, 28, 29, 30, 31, 32, 33, 34, 35,\n",
       "       36, 37, 38, 39, 40, 41, 42, 43, 44, 45, 46, 47, 48, 49, 50, 51, 52,\n",
       "       53, 54, 55, 56, 57, 58, 59, 60, 61, 62, 63, 64, 65, 66, 67, 68, 69,\n",
       "       70, 71, 72, 73, 74, 75, 76, 77, 78, 79, 80, 81, 82, 83, 84, 85, 86,\n",
       "       87, 88, 89, 90, 91, 92, 93, 94, 95, 96, 97, 98, 99])"
      ]
     },
     "execution_count": 5,
     "metadata": {},
     "output_type": "execute_result"
    }
   ],
   "source": [
    "v3 = np.concatenate((v,v2));v3"
   ]
  }
 ],
 "metadata": {
  "kernelspec": {
   "display_name": "Python 3",
   "language": "python",
   "name": "python3"
  },
  "language_info": {
   "codemirror_mode": {
    "name": "ipython",
    "version": 3
   },
   "file_extension": ".py",
   "mimetype": "text/x-python",
   "name": "python",
   "nbconvert_exporter": "python",
   "pygments_lexer": "ipython3",
   "version": "3.6.4"
  }
 },
 "nbformat": 4,
 "nbformat_minor": 2
}
