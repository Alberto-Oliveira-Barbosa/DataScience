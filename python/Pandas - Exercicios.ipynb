{
 "cells": [
  {
   "cell_type": "markdown",
   "metadata": {},
   "source": [
    "# Exercícios com Pandas\n"
   ]
  },
  {
   "cell_type": "code",
   "execution_count": 1,
   "metadata": {},
   "outputs": [],
   "source": [
    "import numpy as np\n",
    "import pandas as pd"
   ]
  },
  {
   "cell_type": "code",
   "execution_count": 3,
   "metadata": {},
   "outputs": [
    {
     "data": {
      "text/plain": [
       "0      9974\n",
       "1      8093\n",
       "2      7701\n",
       "3      1572\n",
       "4      1247\n",
       "5      7778\n",
       "6      9718\n",
       "7      4504\n",
       "8      4680\n",
       "9      8449\n",
       "10     2509\n",
       "11     6640\n",
       "12     4323\n",
       "13     6366\n",
       "14     4925\n",
       "15     2651\n",
       "16     9176\n",
       "17     2839\n",
       "18     1668\n",
       "19     7966\n",
       "20     6083\n",
       "21     1123\n",
       "22     6096\n",
       "23     2388\n",
       "24      926\n",
       "25     9924\n",
       "26     1291\n",
       "27     2119\n",
       "28     9335\n",
       "29     9659\n",
       "       ... \n",
       "970    6105\n",
       "971     290\n",
       "972    5462\n",
       "973    8293\n",
       "974    6511\n",
       "975    3522\n",
       "976    4489\n",
       "977    4051\n",
       "978    5669\n",
       "979    9583\n",
       "980    8551\n",
       "981    5201\n",
       "982    4825\n",
       "983    1463\n",
       "984    1595\n",
       "985    7517\n",
       "986    9718\n",
       "987    3156\n",
       "988    8762\n",
       "989    3054\n",
       "990    2545\n",
       "991    1779\n",
       "992    3157\n",
       "993    5182\n",
       "994    5932\n",
       "995    8305\n",
       "996    6769\n",
       "997    6871\n",
       "998    9714\n",
       "999     546\n",
       "Length: 1000, dtype: int64"
      ]
     },
     "execution_count": 3,
     "metadata": {},
     "output_type": "execute_result"
    }
   ],
   "source": [
    "dados = pd.Series(np.random.randint(1,10000,1000))\n",
    "dados"
   ]
  },
  {
   "cell_type": "markdown",
   "metadata": {},
   "source": [
    "### Mostrar os 10 primeiros valores"
   ]
  },
  {
   "cell_type": "code",
   "execution_count": 4,
   "metadata": {},
   "outputs": [
    {
     "data": {
      "text/plain": [
       "0    9974\n",
       "1    8093\n",
       "2    7701\n",
       "3    1572\n",
       "4    1247\n",
       "5    7778\n",
       "6    9718\n",
       "7    4504\n",
       "8    4680\n",
       "9    8449\n",
       "dtype: int64"
      ]
     },
     "execution_count": 4,
     "metadata": {},
     "output_type": "execute_result"
    }
   ],
   "source": [
    "dados[:10]"
   ]
  },
  {
   "cell_type": "markdown",
   "metadata": {},
   "source": [
    "### Mostrar os valores que forem maiores de 2789"
   ]
  },
  {
   "cell_type": "code",
   "execution_count": 5,
   "metadata": {},
   "outputs": [
    {
     "data": {
      "text/plain": [
       "0      9974\n",
       "1      8093\n",
       "2      7701\n",
       "5      7778\n",
       "6      9718\n",
       "7      4504\n",
       "8      4680\n",
       "9      8449\n",
       "11     6640\n",
       "12     4323\n",
       "13     6366\n",
       "14     4925\n",
       "16     9176\n",
       "17     2839\n",
       "19     7966\n",
       "20     6083\n",
       "22     6096\n",
       "25     9924\n",
       "28     9335\n",
       "29     9659\n",
       "31     6340\n",
       "32     9841\n",
       "33     2791\n",
       "35     8834\n",
       "36     6272\n",
       "38     9873\n",
       "40     9915\n",
       "41     5418\n",
       "43     8155\n",
       "44     6160\n",
       "       ... \n",
       "963    8166\n",
       "964    5744\n",
       "965    5767\n",
       "966    8249\n",
       "968    8430\n",
       "969    3930\n",
       "970    6105\n",
       "972    5462\n",
       "973    8293\n",
       "974    6511\n",
       "975    3522\n",
       "976    4489\n",
       "977    4051\n",
       "978    5669\n",
       "979    9583\n",
       "980    8551\n",
       "981    5201\n",
       "982    4825\n",
       "985    7517\n",
       "986    9718\n",
       "987    3156\n",
       "988    8762\n",
       "989    3054\n",
       "992    3157\n",
       "993    5182\n",
       "994    5932\n",
       "995    8305\n",
       "996    6769\n",
       "997    6871\n",
       "998    9714\n",
       "Length: 711, dtype: int64"
      ]
     },
     "execution_count": 5,
     "metadata": {},
     "output_type": "execute_result"
    }
   ],
   "source": [
    "dados[dados > 2789]"
   ]
  },
  {
   "cell_type": "markdown",
   "metadata": {},
   "source": [
    "### Resumo estatístico"
   ]
  },
  {
   "cell_type": "code",
   "execution_count": 6,
   "metadata": {},
   "outputs": [
    {
     "data": {
      "text/plain": [
       "count    1000.000000\n",
       "mean     4927.581000\n",
       "std      2875.771317\n",
       "min        23.000000\n",
       "25%      2397.000000\n",
       "50%      4935.500000\n",
       "75%      7393.750000\n",
       "max      9996.000000\n",
       "dtype: float64"
      ]
     },
     "execution_count": 6,
     "metadata": {},
     "output_type": "execute_result"
    }
   ],
   "source": [
    "dados.describe()"
   ]
  },
  {
   "cell_type": "code",
   "execution_count": 19,
   "metadata": {},
   "outputs": [
    {
     "data": {
      "text/plain": [
       "array([9974, 8093, 7701, 1572, 1247, 7778, 9718, 4504, 4680, 8449, 2509,\n",
       "       6640, 4323, 6366, 4925, 2651, 9176, 2839, 1668, 7966, 6083, 1123,\n",
       "       6096, 2388,  926, 9924, 1291, 2119, 9335, 9659,  628, 6340, 9841,\n",
       "       2791,  475, 8834, 6272, 1223, 9873, 2166, 9915, 5418,  597, 8155,\n",
       "       6160, 5692, 4329, 7438, 2558, 9508, 1429, 2428,  403, 3546, 1025,\n",
       "       2246,  125, 4903,  911, 8238, 8104, 6205, 1575,  595, 2380, 1469,\n",
       "       3219, 7165,  100, 9963,  668, 9546, 3562, 1072, 7445, 9426, 2336,\n",
       "       6030, 7969, 7563, 3200, 1584, 4823, 9819, 5434, 4192, 2658, 6625,\n",
       "       1244, 9448, 5382,  450, 5779,  264, 4293, 7769, 2091, 9759, 3644,\n",
       "       1213, 2058, 1977, 4708, 5766, 5891, 7239, 7923,  352, 9772, 2968,\n",
       "       1886, 1330, 4420, 3289, 6742, 8949, 3616, 1960, 2146, 5030,  430,\n",
       "       2427, 1718, 3072, 1037, 1047, 2752, 8477, 7847, 5148, 8877, 3991,\n",
       "       1707, 5175, 2915, 8938, 3594,   27, 8693, 5353,  610, 6721, 7667,\n",
       "       4870, 1352, 3455, 5745, 3299, 2090, 1298, 1632, 3272, 8235, 3727,\n",
       "       3450, 9521, 4162, 3877, 4468, 8907, 7171, 9520, 5490, 7392, 5782,\n",
       "       9192, 2764,  723, 8241, 4572, 3215, 1334, 3097, 1329, 1597, 1070,\n",
       "       2971,  535, 5857, 2905, 6183, 8021, 4281, 6604, 9051, 1434, 9636,\n",
       "       7784, 4131, 9786, 6023, 1730, 4278, 5077, 8265, 4751, 1201, 6891,\n",
       "       5646, 1733, 4951, 1992, 6890, 7662, 8300, 1193, 8490, 1602, 3437,\n",
       "         30, 2952,  366, 7846, 3362, 9700, 6178, 8729, 8593, 3881, 1710,\n",
       "       1993, 5647, 8494, 4602, 6040, 3629, 7595, 9698, 9835, 7672, 4652,\n",
       "       2123,  885, 6220, 2233, 3158, 5405, 4492, 9020, 3445, 8298, 3845,\n",
       "       3572, 2624, 4877, 9589, 9007, 2979, 7539, 8397, 7315, 3333, 2467,\n",
       "       5971, 7882, 2064, 1843, 5574, 1232, 1351, 7178, 7927, 8023, 1794,\n",
       "       9135, 8754, 8758, 1185, 6371, 3199, 9920, 9807, 9996, 8183, 9912,\n",
       "       2595, 9538, 7166, 1945, 8266, 1456, 2034,  355, 5127, 7462,  208,\n",
       "       8929, 6403, 7604, 5237, 6592, 3815, 7696, 5702, 7088, 8171, 3747,\n",
       "       9618, 6256, 9323, 3357,  288,  528, 6957, 5600, 5742, 8258, 5319,\n",
       "       3364, 3902, 5297, 6336, 5294, 9216, 6581, 7514, 3136, 8922, 6621,\n",
       "       1860, 5487,  564, 1492, 8473, 7170,  552, 2240, 4720, 9944, 9537,\n",
       "       9548, 7463, 6109, 9948, 7515, 2545, 5621, 5349, 6790, 5717, 2924,\n",
       "       1321, 6690, 2213, 1225, 3584, 5370, 1279, 9871, 8007, 1102, 5940,\n",
       "       2409, 6410, 4713, 1219, 1605, 3501, 9510, 7541, 5753, 4546, 3282,\n",
       "       5462, 5485, 7152, 1165, 7804, 3888, 1935,  700, 6177, 3961, 6652,\n",
       "       4773, 5089, 5617,  582, 5477, 1973, 4893, 4527, 9892, 9110,  376,\n",
       "       6198, 9059, 2179, 7546, 8626, 9612,   38, 3554,  558, 5775, 9797,\n",
       "       2472, 3434, 2875, 6215, 9838, 6774, 9741, 6280, 5643,  147, 6647,\n",
       "       6511,  630, 3368, 1604,  438, 6348, 3335, 2906, 9477, 6993, 8861,\n",
       "       9301, 8895, 9512,  779, 5250, 7877, 6152, 3291, 8719, 6247, 2743,\n",
       "       5978, 9552, 3331, 5116, 8703,  976,  729, 9917, 5696, 4216, 4839,\n",
       "        992, 1865, 3861, 7885, 8053,  995, 1411, 9730, 5231, 7800, 7399,\n",
       "       8387, 4501, 5781, 4532, 3376, 7464, 1974, 3993, 1536, 6298, 3770,\n",
       "       5942, 6388, 4743, 7376, 5929,  784, 5567, 7581, 4493, 5307,  443,\n",
       "       1297, 9882, 1425, 1570, 1022, 9910, 6155, 1044, 8187,   43, 3024,\n",
       "       4350, 9442, 6887, 4237, 4591, 9560, 5051, 4214, 2145, 4805, 7077,\n",
       "       3938, 6421, 3370, 5411, 2358, 2660, 5761, 4902, 5956, 3224, 4307,\n",
       "       9691, 2991, 8124, 7908, 9684, 8584, 4140, 1969, 5083, 1304,  702,\n",
       "       1418, 8899, 7484, 1883, 3377, 3077,  514, 7430, 5653, 9112, 6874,\n",
       "       1785, 7865, 5158, 4636,  909, 8940, 2750, 3777, 2400, 1066,  735,\n",
       "       5627, 3754, 1385, 2980, 1566, 7611,  521, 9247, 7913, 5998,  198,\n",
       "       6713, 1210, 7130, 9401,  908, 2110, 2716, 5885, 4715, 7764, 7649,\n",
       "       3985, 6478, 7110, 5384, 2267, 7858, 5473, 2105, 8919, 9465, 3472,\n",
       "         23, 3351, 1801, 3264, 4271, 6452, 1751, 8129, 7843, 4516, 5358,\n",
       "       6918, 8917, 7119, 3223, 5949, 7295,  113, 7189, 9306, 1643, 6767,\n",
       "        435,  634, 7238, 6196, 5094, 2004, 4112, 7008, 8707,  865, 5602,\n",
       "       8799, 7812, 6574,  850, 5660, 2809, 3336,  660, 5350, 7566, 4792,\n",
       "        893, 7242, 3194, 5126, 6141, 5280, 9814, 5086, 7134, 3122,  121,\n",
       "       6337, 3319, 6657, 9104, 5446, 6483, 7708, 8229, 8676, 2457, 2571,\n",
       "       3869, 6079, 2410, 1651, 4641, 2505, 8435, 5274, 4548, 5251, 4964,\n",
       "       1944, 1987, 8687, 6162, 7700, 2148, 7287, 3182, 2524, 2926, 4801,\n",
       "       9340, 1083, 2188,  334, 7193, 2665, 1280, 8492, 8666,  773, 3953,\n",
       "       6622,  580, 2378, 2611, 4633, 3729, 2723, 7369, 3073, 7731, 9182,\n",
       "       2512, 9392, 3079, 2095, 6224, 4117, 2614, 8364, 4297, 7345, 2767,\n",
       "       9776, 9798, 4879,  302,   57, 2642, 4141, 7522, 7429, 3301, 9525,\n",
       "       4166, 5395, 5495, 1814, 3654, 8038, 6210, 6817, 8892, 9864, 7889,\n",
       "       4609,  643, 7887, 7337, 7046, 2115,  439, 3724, 5241, 4014, 1565,\n",
       "       2831, 8846, 3241, 7271, 6461, 8762, 3734, 6731, 1344, 7861, 4763,\n",
       "       4444,  851,  167, 1124, 2277, 5517, 1138, 6610, 7093, 4538, 6655,\n",
       "       1208, 1813, 5199, 5268,  256,  374, 8640,  131, 8988, 3731, 8399,\n",
       "       6207, 2147, 3255, 1614, 1454, 8151, 6868, 2574, 8386, 7741, 6159,\n",
       "       1712, 4439, 7949, 3737,  682, 9789, 7154, 5043, 1479, 2184, 4793,\n",
       "       7319, 3113, 6358, 5501, 6179, 4184, 7413,  967, 6330,  934, 1913,\n",
       "       2590, 4669, 4252, 9643, 7749, 2513, 7019, 7297, 3271, 5359, 4946,\n",
       "       9667, 1797, 2367, 3693, 1847, 7922, 2377, 3948,   46, 9954, 4068,\n",
       "       8410, 6041, 6199, 9584, 2160, 7117, 7493, 4460, 6910, 5615, 4614,\n",
       "       1513, 9504, 2755,  427, 1672,  617, 6393, 8394, 6955, 4488, 6665,\n",
       "       2688,  774, 8264, 5496, 1405, 6353, 2825, 4286, 8728, 6209, 7405,\n",
       "       1171,  826, 2622, 6398, 6111, 1119, 2193, 3326, 9132, 9178, 8826,\n",
       "       7781, 5498, 4438, 4001, 5279, 8699, 4545, 3389, 5776, 8217,  414,\n",
       "       3457, 1281, 8456, 5996, 7863, 5458, 6034, 8402, 4285, 4799, 3812,\n",
       "       6941, 6799, 2055, 8573, 9501, 5474, 3666, 2290, 9986, 2985, 6375,\n",
       "        612, 5180, 2253, 8712, 6553, 4116, 6654, 1997, 3387, 4566, 3159,\n",
       "        341, 6822, 2853, 1324, 1333, 4705, 8166, 5744, 5767, 8249,  519,\n",
       "       8430, 3930, 6105,  290, 8293, 3522, 4489, 4051, 5669, 9583, 8551,\n",
       "       5201, 4825, 1463, 1595, 7517, 3156, 3054, 1779, 3157, 5182, 5932,\n",
       "       8305, 6769, 6871, 9714,  546])"
      ]
     },
     "execution_count": 19,
     "metadata": {},
     "output_type": "execute_result"
    }
   ],
   "source": [
    "# Valores únicos\n",
    "dados.unique()"
   ]
  },
  {
   "cell_type": "code",
   "execution_count": 20,
   "metadata": {},
   "outputs": [
    {
     "data": {
      "text/plain": [
       "8861    3\n",
       "628     3\n",
       "1298    3\n",
       "595     3\n",
       "2991    2\n",
       "5647    2\n",
       "5030    2\n",
       "2915    2\n",
       "8171    2\n",
       "6511    2\n",
       "6220    2\n",
       "4879    2\n",
       "9323    2\n",
       "3616    2\n",
       "911     2\n",
       "6604    2\n",
       "660     2\n",
       "2545    2\n",
       "6256    2\n",
       "3455    2\n",
       "9772    2\n",
       "1584    2\n",
       "3200    2\n",
       "5462    2\n",
       "5956    2\n",
       "2688    2\n",
       "147     2\n",
       "9552    2\n",
       "4720    2\n",
       "1614    2\n",
       "       ..\n",
       "9465    1\n",
       "7463    1\n",
       "9512    1\n",
       "1321    1\n",
       "9537    1\n",
       "6655    1\n",
       "1333    1\n",
       "5458    1\n",
       "9548    1\n",
       "9546    1\n",
       "1352    1\n",
       "1351    1\n",
       "5446    1\n",
       "7493    1\n",
       "9525    1\n",
       "9538    1\n",
       "1344    1\n",
       "3370    1\n",
       "7708    1\n",
       "3389    1\n",
       "7484    1\n",
       "3387    1\n",
       "5434    1\n",
       "1334    1\n",
       "2166    1\n",
       "1330    1\n",
       "3377    1\n",
       "3376    1\n",
       "1324    1\n",
       "3301    1\n",
       "Length: 940, dtype: int64"
      ]
     },
     "execution_count": 20,
     "metadata": {},
     "output_type": "execute_result"
    }
   ],
   "source": [
    "# Distribuição de elementos\n",
    "dados.value_counts()"
   ]
  },
  {
   "cell_type": "code",
   "execution_count": 30,
   "metadata": {},
   "outputs": [
    {
     "data": {
      "text/plain": [
       "<matplotlib.axes._subplots.AxesSubplot at 0x7f77509bffd0>"
      ]
     },
     "execution_count": 30,
     "metadata": {},
     "output_type": "execute_result"
    },
    {
     "data": {
      "image/png": "[encoded data removed]",
      "text/plain": [
       "<matplotlib.figure.Figure at 0x7f7750986828>"
      ]
     },
     "metadata": {},
     "output_type": "display_data"
    }
   ],
   "source": [
    "import matplotlib.pyplot as plt\n",
    "%matplotlib inline\n",
    "\n",
    "dados.hist()"
   ]
  }
 ],
 "metadata": {
  "kernelspec": {
   "display_name": "Python 3",
   "language": "python",
   "name": "python3"
  },
  "language_info": {
   "codemirror_mode": {
    "name": "ipython",
    "version": 3
   },
   "file_extension": ".py",
   "mimetype": "text/x-python",
   "name": "python",
   "nbconvert_exporter": "python",
   "pygments_lexer": "ipython3",
   "version": "3.6.4"
  }
 },
 "nbformat": 4,
 "nbformat_minor": 2
}
